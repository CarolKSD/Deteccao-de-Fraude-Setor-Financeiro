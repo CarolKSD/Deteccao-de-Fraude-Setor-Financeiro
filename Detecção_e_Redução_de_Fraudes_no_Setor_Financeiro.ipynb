{
  "nbformat": 4,
  "nbformat_minor": 0,
  "metadata": {
    "colab": {
      "name": "Detecção e Redução de Fraudes no Setor Financeiro.ipynb",
      "provenance": []
    },
    "kernelspec": {
      "name": "python3",
      "display_name": "Python 3"
    },
    "language_info": {
      "name": "python"
    }
  },
  "cells": [
    {
      "cell_type": "markdown",
      "source": [
        "# Detecção e Redução de Fraudes no Setor Financeiro\n",
        "\n",
        "## Desafio Classificação - NVIDIA\n",
        "\n",
        "### Resolução por Caroline Dalmazzo"
      ],
      "metadata": {
        "id": "6T6enKIStIUD"
      }
    },
    {
      "cell_type": "markdown",
      "source": [
        "### Base de Dados\n",
        "\n",
        "A base de dados que será utilizada para o desenvolvimento deste desafio contém aproximadamente 6,3 milhões de transações. Os dados contidos nesta base de dados são simulados, não sendo transações reais efetuadas em algum sistema financeiro, e compreendem 30 dias. Estas transações podem ser de diferentes tipos e representam transações executadas via mobile devices. As features contidas nesta base de dados são:\n",
        "\n",
        "*   step - Passo: representa o total de horas transcorrido desde o início da simulação. Esta feature vai variar entre 1 e 744 (30 dias);\n",
        "*   type - Tipo: tipo de transação (depósito, saque, débito, pagamento e transferência);\n",
        "*   amount - Quantia: total que foi transacionado;\n",
        "*   nameOrig - ClienteOrigem: cliente que iniciou a transação;\n",
        "*   oldbalanceOrg - SaldoInicialOrigem: saldo da conta de origem antes da transação;\n",
        "*   newbalanceOrig - SaldoFinalOrigem: saldo da conta de origem após a transação;\n",
        "*   nameDest - ClienteDestino: cliente de destino da transação;\n",
        "*   oldbalanceDest - SaldoInicialDestino: saldo da conta de destino antes da transação;\n",
        "*   newbalanceDest - SaldoFinalDestino: saldo da conta de destino após a transação;\n",
        "*   isFraud - ÉFraude: flag que define se a transação é fraudulenta ou não. Nesta simulação o objetivo da fraude é assumir a conta do usuário, esvaziá-la transferindo para outra conta e então sacando o dinheiro.\n",
        "*   isFlaggedFraud - SinalizadaComoFraude: automaticamente marcadas pelo banco como fraude por tentarem transferir mais de 200.000 em uma única transação."
      ],
      "metadata": {
        "id": "OoPVLPgbt8bb"
      }
    },
    {
      "cell_type": "markdown",
      "source": [
        "Importando bibliotecas que serão utilizadas:"
      ],
      "metadata": {
        "id": "6jUHnB6SGDK2"
      }
    },
    {
      "cell_type": "code",
      "source": [
        "import warnings\n",
        "warnings.filterwarnings('ignore')\n",
        "\n",
        "# Bibliotecas para tratamento de dados em cpu\n",
        "import pandas as pd\n",
        "import numpy as np\n",
        "pd.set_option('display.float_format', lambda x: '%.5f' % x) # evita que o pandas utilize notação científica\n",
        "\n",
        "# Bibliotecas para visualização\n",
        "import matplotlib.pyplot as plt\n",
        "import seaborn as sns\n",
        "plt.style.use('seaborn')\n",
        "\n",
        "# Bibliotecas processamento\n",
        "from sklearn.preprocessing import Normalizer, LabelEncoder, OneHotEncoder\n",
        "from sklearn.model_selection import train_test_split\n",
        "\n",
        "# Métricas\n",
        "from sklearn.metrics import accuracy_score, recall_score,f1_score, roc_auc_score, precision_score\n",
        "from sklearn.metrics import confusion_matrix, classification_report\n",
        "\n",
        "# Bibliotecas de Rebalanceamento\n",
        "from imblearn.under_sampling import RandomUnderSampler\n",
        "from imblearn.over_sampling import RandomOverSampler\n",
        "from imblearn.over_sampling import SMOTE\n",
        "from imblearn.over_sampling import ADASYN\n",
        "from imblearn.over_sampling import BorderlineSMOTE\n",
        "\n",
        "# Classifier Models\n",
        "from xgboost import XGBClassifier\n",
        "from sklearn.tree import DecisionTreeClassifier\n",
        "from sklearn.ensemble import RandomForestClassifier\n",
        "from sklearn.linear_model import LogisticRegression\n",
        "from sklearn.neighbors import KNeighborsClassifier\n",
        "from sklearn.ensemble import GradientBoostingClassifier\n",
        "\n",
        "# Feature importance\n",
        "from sklearn.inspection import permutation_importance"
      ],
      "metadata": {
        "id": "DM4AeSEmEQbU"
      },
      "execution_count": 2,
      "outputs": []
    },
    {
      "cell_type": "code",
      "source": [
        "from google.colab import drive\n",
        "drive.mount('/content/drive')"
      ],
      "metadata": {
        "colab": {
          "base_uri": "https://localhost:8080/"
        },
        "id": "B1kd31kfEUfK",
        "outputId": "3dea65cc-f5d7-4545-e77b-1e8565806033"
      },
      "execution_count": 3,
      "outputs": [
        {
          "output_type": "stream",
          "name": "stdout",
          "text": [
            "Mounted at /content/drive\n"
          ]
        }
      ]
    },
    {
      "cell_type": "code",
      "source": [
        "df = pd.read_csv('/content/drive/MyDrive/Colab Notebooks/fraud_detection_dataset.csv')"
      ],
      "metadata": {
        "id": "exBc1LorEkqW"
      },
      "execution_count": 4,
      "outputs": []
    },
    {
      "cell_type": "code",
      "source": [
        "df.head()"
      ],
      "metadata": {
        "colab": {
          "base_uri": "https://localhost:8080/",
          "height": 250
        },
        "id": "NbRHeRiQFsWT",
        "outputId": "32ffe9ea-8827-432a-e5f7-8b65fd4797a8"
      },
      "execution_count": 5,
      "outputs": [
        {
          "output_type": "execute_result",
          "data": {
            "text/plain": [
              "   step      type      amount     nameOrig  oldbalanceOrg  newbalanceOrig  \\\n",
              "0     1   PAYMENT  9839.64000  C1231006815   170136.00000    160296.36000   \n",
              "1     1   PAYMENT  1864.28000  C1666544295    21249.00000     19384.72000   \n",
              "2     1  TRANSFER   181.00000  C1305486145      181.00000         0.00000   \n",
              "3     1  CASH_OUT   181.00000   C840083671      181.00000         0.00000   \n",
              "4     1   PAYMENT 11668.14000  C2048537720    41554.00000     29885.86000   \n",
              "\n",
              "      nameDest  oldbalanceDest  newbalanceDest  isFraud  isFlaggedFraud  \n",
              "0  M1979787155         0.00000         0.00000        0               0  \n",
              "1  M2044282225         0.00000         0.00000        0               0  \n",
              "2   C553264065         0.00000         0.00000        1               0  \n",
              "3    C38997010     21182.00000         0.00000        1               0  \n",
              "4  M1230701703         0.00000         0.00000        0               0  "
            ],
            "text/html": [
              "\n",
              "  <div id=\"df-333d8297-92dd-4d60-bac4-f1abf3e0dd88\">\n",
              "    <div class=\"colab-df-container\">\n",
              "      <div>\n",
              "<style scoped>\n",
              "    .dataframe tbody tr th:only-of-type {\n",
              "        vertical-align: middle;\n",
              "    }\n",
              "\n",
              "    .dataframe tbody tr th {\n",
              "        vertical-align: top;\n",
              "    }\n",
              "\n",
              "    .dataframe thead th {\n",
              "        text-align: right;\n",
              "    }\n",
              "</style>\n",
              "<table border=\"1\" class=\"dataframe\">\n",
              "  <thead>\n",
              "    <tr style=\"text-align: right;\">\n",
              "      <th></th>\n",
              "      <th>step</th>\n",
              "      <th>type</th>\n",
              "      <th>amount</th>\n",
              "      <th>nameOrig</th>\n",
              "      <th>oldbalanceOrg</th>\n",
              "      <th>newbalanceOrig</th>\n",
              "      <th>nameDest</th>\n",
              "      <th>oldbalanceDest</th>\n",
              "      <th>newbalanceDest</th>\n",
              "      <th>isFraud</th>\n",
              "      <th>isFlaggedFraud</th>\n",
              "    </tr>\n",
              "  </thead>\n",
              "  <tbody>\n",
              "    <tr>\n",
              "      <th>0</th>\n",
              "      <td>1</td>\n",
              "      <td>PAYMENT</td>\n",
              "      <td>9839.64000</td>\n",
              "      <td>C1231006815</td>\n",
              "      <td>170136.00000</td>\n",
              "      <td>160296.36000</td>\n",
              "      <td>M1979787155</td>\n",
              "      <td>0.00000</td>\n",
              "      <td>0.00000</td>\n",
              "      <td>0</td>\n",
              "      <td>0</td>\n",
              "    </tr>\n",
              "    <tr>\n",
              "      <th>1</th>\n",
              "      <td>1</td>\n",
              "      <td>PAYMENT</td>\n",
              "      <td>1864.28000</td>\n",
              "      <td>C1666544295</td>\n",
              "      <td>21249.00000</td>\n",
              "      <td>19384.72000</td>\n",
              "      <td>M2044282225</td>\n",
              "      <td>0.00000</td>\n",
              "      <td>0.00000</td>\n",
              "      <td>0</td>\n",
              "      <td>0</td>\n",
              "    </tr>\n",
              "    <tr>\n",
              "      <th>2</th>\n",
              "      <td>1</td>\n",
              "      <td>TRANSFER</td>\n",
              "      <td>181.00000</td>\n",
              "      <td>C1305486145</td>\n",
              "      <td>181.00000</td>\n",
              "      <td>0.00000</td>\n",
              "      <td>C553264065</td>\n",
              "      <td>0.00000</td>\n",
              "      <td>0.00000</td>\n",
              "      <td>1</td>\n",
              "      <td>0</td>\n",
              "    </tr>\n",
              "    <tr>\n",
              "      <th>3</th>\n",
              "      <td>1</td>\n",
              "      <td>CASH_OUT</td>\n",
              "      <td>181.00000</td>\n",
              "      <td>C840083671</td>\n",
              "      <td>181.00000</td>\n",
              "      <td>0.00000</td>\n",
              "      <td>C38997010</td>\n",
              "      <td>21182.00000</td>\n",
              "      <td>0.00000</td>\n",
              "      <td>1</td>\n",
              "      <td>0</td>\n",
              "    </tr>\n",
              "    <tr>\n",
              "      <th>4</th>\n",
              "      <td>1</td>\n",
              "      <td>PAYMENT</td>\n",
              "      <td>11668.14000</td>\n",
              "      <td>C2048537720</td>\n",
              "      <td>41554.00000</td>\n",
              "      <td>29885.86000</td>\n",
              "      <td>M1230701703</td>\n",
              "      <td>0.00000</td>\n",
              "      <td>0.00000</td>\n",
              "      <td>0</td>\n",
              "      <td>0</td>\n",
              "    </tr>\n",
              "  </tbody>\n",
              "</table>\n",
              "</div>\n",
              "      <button class=\"colab-df-convert\" onclick=\"convertToInteractive('df-333d8297-92dd-4d60-bac4-f1abf3e0dd88')\"\n",
              "              title=\"Convert this dataframe to an interactive table.\"\n",
              "              style=\"display:none;\">\n",
              "        \n",
              "  <svg xmlns=\"http://www.w3.org/2000/svg\" height=\"24px\"viewBox=\"0 0 24 24\"\n",
              "       width=\"24px\">\n",
              "    <path d=\"M0 0h24v24H0V0z\" fill=\"none\"/>\n",
              "    <path d=\"M18.56 5.44l.94 2.06.94-2.06 2.06-.94-2.06-.94-.94-2.06-.94 2.06-2.06.94zm-11 1L8.5 8.5l.94-2.06 2.06-.94-2.06-.94L8.5 2.5l-.94 2.06-2.06.94zm10 10l.94 2.06.94-2.06 2.06-.94-2.06-.94-.94-2.06-.94 2.06-2.06.94z\"/><path d=\"M17.41 7.96l-1.37-1.37c-.4-.4-.92-.59-1.43-.59-.52 0-1.04.2-1.43.59L10.3 9.45l-7.72 7.72c-.78.78-.78 2.05 0 2.83L4 21.41c.39.39.9.59 1.41.59.51 0 1.02-.2 1.41-.59l7.78-7.78 2.81-2.81c.8-.78.8-2.07 0-2.86zM5.41 20L4 18.59l7.72-7.72 1.47 1.35L5.41 20z\"/>\n",
              "  </svg>\n",
              "      </button>\n",
              "      \n",
              "  <style>\n",
              "    .colab-df-container {\n",
              "      display:flex;\n",
              "      flex-wrap:wrap;\n",
              "      gap: 12px;\n",
              "    }\n",
              "\n",
              "    .colab-df-convert {\n",
              "      background-color: #E8F0FE;\n",
              "      border: none;\n",
              "      border-radius: 50%;\n",
              "      cursor: pointer;\n",
              "      display: none;\n",
              "      fill: #1967D2;\n",
              "      height: 32px;\n",
              "      padding: 0 0 0 0;\n",
              "      width: 32px;\n",
              "    }\n",
              "\n",
              "    .colab-df-convert:hover {\n",
              "      background-color: #E2EBFA;\n",
              "      box-shadow: 0px 1px 2px rgba(60, 64, 67, 0.3), 0px 1px 3px 1px rgba(60, 64, 67, 0.15);\n",
              "      fill: #174EA6;\n",
              "    }\n",
              "\n",
              "    [theme=dark] .colab-df-convert {\n",
              "      background-color: #3B4455;\n",
              "      fill: #D2E3FC;\n",
              "    }\n",
              "\n",
              "    [theme=dark] .colab-df-convert:hover {\n",
              "      background-color: #434B5C;\n",
              "      box-shadow: 0px 1px 3px 1px rgba(0, 0, 0, 0.15);\n",
              "      filter: drop-shadow(0px 1px 2px rgba(0, 0, 0, 0.3));\n",
              "      fill: #FFFFFF;\n",
              "    }\n",
              "  </style>\n",
              "\n",
              "      <script>\n",
              "        const buttonEl =\n",
              "          document.querySelector('#df-333d8297-92dd-4d60-bac4-f1abf3e0dd88 button.colab-df-convert');\n",
              "        buttonEl.style.display =\n",
              "          google.colab.kernel.accessAllowed ? 'block' : 'none';\n",
              "\n",
              "        async function convertToInteractive(key) {\n",
              "          const element = document.querySelector('#df-333d8297-92dd-4d60-bac4-f1abf3e0dd88');\n",
              "          const dataTable =\n",
              "            await google.colab.kernel.invokeFunction('convertToInteractive',\n",
              "                                                     [key], {});\n",
              "          if (!dataTable) return;\n",
              "\n",
              "          const docLinkHtml = 'Like what you see? Visit the ' +\n",
              "            '<a target=\"_blank\" href=https://colab.research.google.com/notebooks/data_table.ipynb>data table notebook</a>'\n",
              "            + ' to learn more about interactive tables.';\n",
              "          element.innerHTML = '';\n",
              "          dataTable['output_type'] = 'display_data';\n",
              "          await google.colab.output.renderOutput(dataTable, element);\n",
              "          const docLink = document.createElement('div');\n",
              "          docLink.innerHTML = docLinkHtml;\n",
              "          element.appendChild(docLink);\n",
              "        }\n",
              "      </script>\n",
              "    </div>\n",
              "  </div>\n",
              "  "
            ]
          },
          "metadata": {},
          "execution_count": 5
        }
      ]
    },
    {
      "cell_type": "code",
      "source": [
        "df.info()"
      ],
      "metadata": {
        "colab": {
          "base_uri": "https://localhost:8080/"
        },
        "id": "57Xi2Uw6GJIw",
        "outputId": "19b6b133-39bd-4355-e4cf-1af35a981f98"
      },
      "execution_count": 6,
      "outputs": [
        {
          "output_type": "stream",
          "name": "stdout",
          "text": [
            "<class 'pandas.core.frame.DataFrame'>\n",
            "RangeIndex: 6362620 entries, 0 to 6362619\n",
            "Data columns (total 11 columns):\n",
            " #   Column          Dtype  \n",
            "---  ------          -----  \n",
            " 0   step            int64  \n",
            " 1   type            object \n",
            " 2   amount          float64\n",
            " 3   nameOrig        object \n",
            " 4   oldbalanceOrg   float64\n",
            " 5   newbalanceOrig  float64\n",
            " 6   nameDest        object \n",
            " 7   oldbalanceDest  float64\n",
            " 8   newbalanceDest  float64\n",
            " 9   isFraud         int64  \n",
            " 10  isFlaggedFraud  int64  \n",
            "dtypes: float64(5), int64(3), object(3)\n",
            "memory usage: 534.0+ MB\n"
          ]
        }
      ]
    },
    {
      "cell_type": "markdown",
      "source": [
        "### Avaliação dos Dados"
      ],
      "metadata": {
        "id": "cc4ayrmwGoQg"
      }
    },
    {
      "cell_type": "code",
      "source": [
        "df.isnull().sum()"
      ],
      "metadata": {
        "colab": {
          "base_uri": "https://localhost:8080/"
        },
        "id": "_mONdziTGq_Y",
        "outputId": "9b5ffb90-7868-4b57-8fb7-28ae0a8576f7"
      },
      "execution_count": 7,
      "outputs": [
        {
          "output_type": "execute_result",
          "data": {
            "text/plain": [
              "step              0\n",
              "type              0\n",
              "amount            0\n",
              "nameOrig          0\n",
              "oldbalanceOrg     0\n",
              "newbalanceOrig    0\n",
              "nameDest          0\n",
              "oldbalanceDest    0\n",
              "newbalanceDest    0\n",
              "isFraud           0\n",
              "isFlaggedFraud    0\n",
              "dtype: int64"
            ]
          },
          "metadata": {},
          "execution_count": 7
        }
      ]
    },
    {
      "cell_type": "code",
      "source": [
        "df.duplicated().sum()"
      ],
      "metadata": {
        "colab": {
          "base_uri": "https://localhost:8080/"
        },
        "id": "VvouHBT9HPeI",
        "outputId": "a2247b7b-96dc-47c1-d75e-d953e234044f"
      },
      "execution_count": 8,
      "outputs": [
        {
          "output_type": "execute_result",
          "data": {
            "text/plain": [
              "0"
            ]
          },
          "metadata": {},
          "execution_count": 8
        }
      ]
    },
    {
      "cell_type": "code",
      "source": [
        "df.describe(percentiles=[0.01, 0.05, 0.25, 0.5, 0.75, 0.95, 0.99], include='all')"
      ],
      "metadata": {
        "colab": {
          "base_uri": "https://localhost:8080/",
          "height": 584
        },
        "id": "mTAGxKXBHZie",
        "outputId": "8010ccf3-9656-429c-f73c-6f5af047854b"
      },
      "execution_count": 9,
      "outputs": [
        {
          "output_type": "execute_result",
          "data": {
            "text/plain": [
              "                step      type         amount     nameOrig  oldbalanceOrg  \\\n",
              "count  6362620.00000   6362620  6362620.00000      6362620  6362620.00000   \n",
              "unique           NaN         5            NaN      6353307            NaN   \n",
              "top              NaN  CASH_OUT            NaN  C1902386530            NaN   \n",
              "freq             NaN   2237500            NaN            3            NaN   \n",
              "mean       243.39725       NaN   179861.90355          NaN   833883.10407   \n",
              "std        142.33197       NaN   603858.23146          NaN  2888242.67304   \n",
              "min          1.00000       NaN        0.00000          NaN        0.00000   \n",
              "1%           9.00000       NaN      449.46760          NaN        0.00000   \n",
              "5%          16.00000       NaN     2224.09950          NaN        0.00000   \n",
              "25%        156.00000       NaN    13389.57000          NaN        0.00000   \n",
              "50%        239.00000       NaN    74871.94000          NaN    14208.00000   \n",
              "75%        335.00000       NaN   208721.47750          NaN   107315.17500   \n",
              "95%        490.00000       NaN   518634.19650          NaN  5823702.27850   \n",
              "99%        681.00000       NaN  1615979.47160          NaN 16027256.13370   \n",
              "max        743.00000       NaN 92445516.64000          NaN 59585040.37000   \n",
              "\n",
              "        newbalanceOrig     nameDest  oldbalanceDest  newbalanceDest  \\\n",
              "count    6362620.00000      6362620   6362620.00000   6362620.00000   \n",
              "unique             NaN      2722362             NaN             NaN   \n",
              "top                NaN  C1286084959             NaN             NaN   \n",
              "freq               NaN          113             NaN             NaN   \n",
              "mean      855113.66858          NaN   1100701.66652   1224996.39820   \n",
              "std      2924048.50295          NaN   3399180.11299   3674128.94212   \n",
              "min            0.00000          NaN         0.00000         0.00000   \n",
              "1%             0.00000          NaN         0.00000         0.00000   \n",
              "5%             0.00000          NaN         0.00000         0.00000   \n",
              "25%            0.00000          NaN         0.00000         0.00000   \n",
              "50%            0.00000          NaN    132705.66500    214661.44000   \n",
              "75%       144258.41000          NaN    943036.70750   1111909.25000   \n",
              "95%      5980262.33650          NaN   5147229.71350   5515715.90350   \n",
              "99%     16176160.55800          NaN  12371819.15480  13137866.94100   \n",
              "max     49585040.37000          NaN 356015889.35000 356179278.92000   \n",
              "\n",
              "             isFraud  isFlaggedFraud  \n",
              "count  6362620.00000   6362620.00000  \n",
              "unique           NaN             NaN  \n",
              "top              NaN             NaN  \n",
              "freq             NaN             NaN  \n",
              "mean         0.00129         0.00000  \n",
              "std          0.03590         0.00159  \n",
              "min          0.00000         0.00000  \n",
              "1%           0.00000         0.00000  \n",
              "5%           0.00000         0.00000  \n",
              "25%          0.00000         0.00000  \n",
              "50%          0.00000         0.00000  \n",
              "75%          0.00000         0.00000  \n",
              "95%          0.00000         0.00000  \n",
              "99%          0.00000         0.00000  \n",
              "max          1.00000         1.00000  "
            ],
            "text/html": [
              "\n",
              "  <div id=\"df-d9bc27ba-aa2e-4a0b-b90d-b88fffb458c1\">\n",
              "    <div class=\"colab-df-container\">\n",
              "      <div>\n",
              "<style scoped>\n",
              "    .dataframe tbody tr th:only-of-type {\n",
              "        vertical-align: middle;\n",
              "    }\n",
              "\n",
              "    .dataframe tbody tr th {\n",
              "        vertical-align: top;\n",
              "    }\n",
              "\n",
              "    .dataframe thead th {\n",
              "        text-align: right;\n",
              "    }\n",
              "</style>\n",
              "<table border=\"1\" class=\"dataframe\">\n",
              "  <thead>\n",
              "    <tr style=\"text-align: right;\">\n",
              "      <th></th>\n",
              "      <th>step</th>\n",
              "      <th>type</th>\n",
              "      <th>amount</th>\n",
              "      <th>nameOrig</th>\n",
              "      <th>oldbalanceOrg</th>\n",
              "      <th>newbalanceOrig</th>\n",
              "      <th>nameDest</th>\n",
              "      <th>oldbalanceDest</th>\n",
              "      <th>newbalanceDest</th>\n",
              "      <th>isFraud</th>\n",
              "      <th>isFlaggedFraud</th>\n",
              "    </tr>\n",
              "  </thead>\n",
              "  <tbody>\n",
              "    <tr>\n",
              "      <th>count</th>\n",
              "      <td>6362620.00000</td>\n",
              "      <td>6362620</td>\n",
              "      <td>6362620.00000</td>\n",
              "      <td>6362620</td>\n",
              "      <td>6362620.00000</td>\n",
              "      <td>6362620.00000</td>\n",
              "      <td>6362620</td>\n",
              "      <td>6362620.00000</td>\n",
              "      <td>6362620.00000</td>\n",
              "      <td>6362620.00000</td>\n",
              "      <td>6362620.00000</td>\n",
              "    </tr>\n",
              "    <tr>\n",
              "      <th>unique</th>\n",
              "      <td>NaN</td>\n",
              "      <td>5</td>\n",
              "      <td>NaN</td>\n",
              "      <td>6353307</td>\n",
              "      <td>NaN</td>\n",
              "      <td>NaN</td>\n",
              "      <td>2722362</td>\n",
              "      <td>NaN</td>\n",
              "      <td>NaN</td>\n",
              "      <td>NaN</td>\n",
              "      <td>NaN</td>\n",
              "    </tr>\n",
              "    <tr>\n",
              "      <th>top</th>\n",
              "      <td>NaN</td>\n",
              "      <td>CASH_OUT</td>\n",
              "      <td>NaN</td>\n",
              "      <td>C1902386530</td>\n",
              "      <td>NaN</td>\n",
              "      <td>NaN</td>\n",
              "      <td>C1286084959</td>\n",
              "      <td>NaN</td>\n",
              "      <td>NaN</td>\n",
              "      <td>NaN</td>\n",
              "      <td>NaN</td>\n",
              "    </tr>\n",
              "    <tr>\n",
              "      <th>freq</th>\n",
              "      <td>NaN</td>\n",
              "      <td>2237500</td>\n",
              "      <td>NaN</td>\n",
              "      <td>3</td>\n",
              "      <td>NaN</td>\n",
              "      <td>NaN</td>\n",
              "      <td>113</td>\n",
              "      <td>NaN</td>\n",
              "      <td>NaN</td>\n",
              "      <td>NaN</td>\n",
              "      <td>NaN</td>\n",
              "    </tr>\n",
              "    <tr>\n",
              "      <th>mean</th>\n",
              "      <td>243.39725</td>\n",
              "      <td>NaN</td>\n",
              "      <td>179861.90355</td>\n",
              "      <td>NaN</td>\n",
              "      <td>833883.10407</td>\n",
              "      <td>855113.66858</td>\n",
              "      <td>NaN</td>\n",
              "      <td>1100701.66652</td>\n",
              "      <td>1224996.39820</td>\n",
              "      <td>0.00129</td>\n",
              "      <td>0.00000</td>\n",
              "    </tr>\n",
              "    <tr>\n",
              "      <th>std</th>\n",
              "      <td>142.33197</td>\n",
              "      <td>NaN</td>\n",
              "      <td>603858.23146</td>\n",
              "      <td>NaN</td>\n",
              "      <td>2888242.67304</td>\n",
              "      <td>2924048.50295</td>\n",
              "      <td>NaN</td>\n",
              "      <td>3399180.11299</td>\n",
              "      <td>3674128.94212</td>\n",
              "      <td>0.03590</td>\n",
              "      <td>0.00159</td>\n",
              "    </tr>\n",
              "    <tr>\n",
              "      <th>min</th>\n",
              "      <td>1.00000</td>\n",
              "      <td>NaN</td>\n",
              "      <td>0.00000</td>\n",
              "      <td>NaN</td>\n",
              "      <td>0.00000</td>\n",
              "      <td>0.00000</td>\n",
              "      <td>NaN</td>\n",
              "      <td>0.00000</td>\n",
              "      <td>0.00000</td>\n",
              "      <td>0.00000</td>\n",
              "      <td>0.00000</td>\n",
              "    </tr>\n",
              "    <tr>\n",
              "      <th>1%</th>\n",
              "      <td>9.00000</td>\n",
              "      <td>NaN</td>\n",
              "      <td>449.46760</td>\n",
              "      <td>NaN</td>\n",
              "      <td>0.00000</td>\n",
              "      <td>0.00000</td>\n",
              "      <td>NaN</td>\n",
              "      <td>0.00000</td>\n",
              "      <td>0.00000</td>\n",
              "      <td>0.00000</td>\n",
              "      <td>0.00000</td>\n",
              "    </tr>\n",
              "    <tr>\n",
              "      <th>5%</th>\n",
              "      <td>16.00000</td>\n",
              "      <td>NaN</td>\n",
              "      <td>2224.09950</td>\n",
              "      <td>NaN</td>\n",
              "      <td>0.00000</td>\n",
              "      <td>0.00000</td>\n",
              "      <td>NaN</td>\n",
              "      <td>0.00000</td>\n",
              "      <td>0.00000</td>\n",
              "      <td>0.00000</td>\n",
              "      <td>0.00000</td>\n",
              "    </tr>\n",
              "    <tr>\n",
              "      <th>25%</th>\n",
              "      <td>156.00000</td>\n",
              "      <td>NaN</td>\n",
              "      <td>13389.57000</td>\n",
              "      <td>NaN</td>\n",
              "      <td>0.00000</td>\n",
              "      <td>0.00000</td>\n",
              "      <td>NaN</td>\n",
              "      <td>0.00000</td>\n",
              "      <td>0.00000</td>\n",
              "      <td>0.00000</td>\n",
              "      <td>0.00000</td>\n",
              "    </tr>\n",
              "    <tr>\n",
              "      <th>50%</th>\n",
              "      <td>239.00000</td>\n",
              "      <td>NaN</td>\n",
              "      <td>74871.94000</td>\n",
              "      <td>NaN</td>\n",
              "      <td>14208.00000</td>\n",
              "      <td>0.00000</td>\n",
              "      <td>NaN</td>\n",
              "      <td>132705.66500</td>\n",
              "      <td>214661.44000</td>\n",
              "      <td>0.00000</td>\n",
              "      <td>0.00000</td>\n",
              "    </tr>\n",
              "    <tr>\n",
              "      <th>75%</th>\n",
              "      <td>335.00000</td>\n",
              "      <td>NaN</td>\n",
              "      <td>208721.47750</td>\n",
              "      <td>NaN</td>\n",
              "      <td>107315.17500</td>\n",
              "      <td>144258.41000</td>\n",
              "      <td>NaN</td>\n",
              "      <td>943036.70750</td>\n",
              "      <td>1111909.25000</td>\n",
              "      <td>0.00000</td>\n",
              "      <td>0.00000</td>\n",
              "    </tr>\n",
              "    <tr>\n",
              "      <th>95%</th>\n",
              "      <td>490.00000</td>\n",
              "      <td>NaN</td>\n",
              "      <td>518634.19650</td>\n",
              "      <td>NaN</td>\n",
              "      <td>5823702.27850</td>\n",
              "      <td>5980262.33650</td>\n",
              "      <td>NaN</td>\n",
              "      <td>5147229.71350</td>\n",
              "      <td>5515715.90350</td>\n",
              "      <td>0.00000</td>\n",
              "      <td>0.00000</td>\n",
              "    </tr>\n",
              "    <tr>\n",
              "      <th>99%</th>\n",
              "      <td>681.00000</td>\n",
              "      <td>NaN</td>\n",
              "      <td>1615979.47160</td>\n",
              "      <td>NaN</td>\n",
              "      <td>16027256.13370</td>\n",
              "      <td>16176160.55800</td>\n",
              "      <td>NaN</td>\n",
              "      <td>12371819.15480</td>\n",
              "      <td>13137866.94100</td>\n",
              "      <td>0.00000</td>\n",
              "      <td>0.00000</td>\n",
              "    </tr>\n",
              "    <tr>\n",
              "      <th>max</th>\n",
              "      <td>743.00000</td>\n",
              "      <td>NaN</td>\n",
              "      <td>92445516.64000</td>\n",
              "      <td>NaN</td>\n",
              "      <td>59585040.37000</td>\n",
              "      <td>49585040.37000</td>\n",
              "      <td>NaN</td>\n",
              "      <td>356015889.35000</td>\n",
              "      <td>356179278.92000</td>\n",
              "      <td>1.00000</td>\n",
              "      <td>1.00000</td>\n",
              "    </tr>\n",
              "  </tbody>\n",
              "</table>\n",
              "</div>\n",
              "      <button class=\"colab-df-convert\" onclick=\"convertToInteractive('df-d9bc27ba-aa2e-4a0b-b90d-b88fffb458c1')\"\n",
              "              title=\"Convert this dataframe to an interactive table.\"\n",
              "              style=\"display:none;\">\n",
              "        \n",
              "  <svg xmlns=\"http://www.w3.org/2000/svg\" height=\"24px\"viewBox=\"0 0 24 24\"\n",
              "       width=\"24px\">\n",
              "    <path d=\"M0 0h24v24H0V0z\" fill=\"none\"/>\n",
              "    <path d=\"M18.56 5.44l.94 2.06.94-2.06 2.06-.94-2.06-.94-.94-2.06-.94 2.06-2.06.94zm-11 1L8.5 8.5l.94-2.06 2.06-.94-2.06-.94L8.5 2.5l-.94 2.06-2.06.94zm10 10l.94 2.06.94-2.06 2.06-.94-2.06-.94-.94-2.06-.94 2.06-2.06.94z\"/><path d=\"M17.41 7.96l-1.37-1.37c-.4-.4-.92-.59-1.43-.59-.52 0-1.04.2-1.43.59L10.3 9.45l-7.72 7.72c-.78.78-.78 2.05 0 2.83L4 21.41c.39.39.9.59 1.41.59.51 0 1.02-.2 1.41-.59l7.78-7.78 2.81-2.81c.8-.78.8-2.07 0-2.86zM5.41 20L4 18.59l7.72-7.72 1.47 1.35L5.41 20z\"/>\n",
              "  </svg>\n",
              "      </button>\n",
              "      \n",
              "  <style>\n",
              "    .colab-df-container {\n",
              "      display:flex;\n",
              "      flex-wrap:wrap;\n",
              "      gap: 12px;\n",
              "    }\n",
              "\n",
              "    .colab-df-convert {\n",
              "      background-color: #E8F0FE;\n",
              "      border: none;\n",
              "      border-radius: 50%;\n",
              "      cursor: pointer;\n",
              "      display: none;\n",
              "      fill: #1967D2;\n",
              "      height: 32px;\n",
              "      padding: 0 0 0 0;\n",
              "      width: 32px;\n",
              "    }\n",
              "\n",
              "    .colab-df-convert:hover {\n",
              "      background-color: #E2EBFA;\n",
              "      box-shadow: 0px 1px 2px rgba(60, 64, 67, 0.3), 0px 1px 3px 1px rgba(60, 64, 67, 0.15);\n",
              "      fill: #174EA6;\n",
              "    }\n",
              "\n",
              "    [theme=dark] .colab-df-convert {\n",
              "      background-color: #3B4455;\n",
              "      fill: #D2E3FC;\n",
              "    }\n",
              "\n",
              "    [theme=dark] .colab-df-convert:hover {\n",
              "      background-color: #434B5C;\n",
              "      box-shadow: 0px 1px 3px 1px rgba(0, 0, 0, 0.15);\n",
              "      filter: drop-shadow(0px 1px 2px rgba(0, 0, 0, 0.3));\n",
              "      fill: #FFFFFF;\n",
              "    }\n",
              "  </style>\n",
              "\n",
              "      <script>\n",
              "        const buttonEl =\n",
              "          document.querySelector('#df-d9bc27ba-aa2e-4a0b-b90d-b88fffb458c1 button.colab-df-convert');\n",
              "        buttonEl.style.display =\n",
              "          google.colab.kernel.accessAllowed ? 'block' : 'none';\n",
              "\n",
              "        async function convertToInteractive(key) {\n",
              "          const element = document.querySelector('#df-d9bc27ba-aa2e-4a0b-b90d-b88fffb458c1');\n",
              "          const dataTable =\n",
              "            await google.colab.kernel.invokeFunction('convertToInteractive',\n",
              "                                                     [key], {});\n",
              "          if (!dataTable) return;\n",
              "\n",
              "          const docLinkHtml = 'Like what you see? Visit the ' +\n",
              "            '<a target=\"_blank\" href=https://colab.research.google.com/notebooks/data_table.ipynb>data table notebook</a>'\n",
              "            + ' to learn more about interactive tables.';\n",
              "          element.innerHTML = '';\n",
              "          dataTable['output_type'] = 'display_data';\n",
              "          await google.colab.output.renderOutput(dataTable, element);\n",
              "          const docLink = document.createElement('div');\n",
              "          docLink.innerHTML = docLinkHtml;\n",
              "          element.appendChild(docLink);\n",
              "        }\n",
              "      </script>\n",
              "    </div>\n",
              "  </div>\n",
              "  "
            ]
          },
          "metadata": {},
          "execution_count": 9
        }
      ]
    },
    {
      "cell_type": "markdown",
      "source": [
        "### EDA"
      ],
      "metadata": {
        "id": "ZgaJj1N-Iv0I"
      }
    },
    {
      "cell_type": "code",
      "source": [
        "df['isFraud'].value_counts()"
      ],
      "metadata": {
        "colab": {
          "base_uri": "https://localhost:8080/"
        },
        "id": "1BcGXiMyIzu1",
        "outputId": "c3381d20-3552-4e05-a1a5-d6b7931a5a0a"
      },
      "execution_count": 10,
      "outputs": [
        {
          "output_type": "execute_result",
          "data": {
            "text/plain": [
              "0    6354407\n",
              "1       8213\n",
              "Name: isFraud, dtype: int64"
            ]
          },
          "metadata": {},
          "execution_count": 10
        }
      ]
    },
    {
      "cell_type": "code",
      "source": [
        "df['isFlaggedFraud'].value_counts()"
      ],
      "metadata": {
        "colab": {
          "base_uri": "https://localhost:8080/"
        },
        "id": "Sm9cLKLvJkCk",
        "outputId": "f2ee57d6-ce35-4d0b-a09f-ef5c58aabcb4"
      },
      "execution_count": 11,
      "outputs": [
        {
          "output_type": "execute_result",
          "data": {
            "text/plain": [
              "0    6362604\n",
              "1         16\n",
              "Name: isFlaggedFraud, dtype: int64"
            ]
          },
          "metadata": {},
          "execution_count": 11
        }
      ]
    },
    {
      "cell_type": "code",
      "source": [
        "df['isFraud'].value_counts(normalize=True)*100"
      ],
      "metadata": {
        "colab": {
          "base_uri": "https://localhost:8080/"
        },
        "id": "T6vTvmR9J7Ag",
        "outputId": "2e6fc531-b7c3-4d36-8acf-5a4d4811d6a2"
      },
      "execution_count": 13,
      "outputs": [
        {
          "output_type": "execute_result",
          "data": {
            "text/plain": [
              "0   99.87092\n",
              "1    0.12908\n",
              "Name: isFraud, dtype: float64"
            ]
          },
          "metadata": {},
          "execution_count": 13
        }
      ]
    },
    {
      "cell_type": "code",
      "source": [
        "16*100/8213"
      ],
      "metadata": {
        "colab": {
          "base_uri": "https://localhost:8080/"
        },
        "id": "AP5KVwz0Jp_s",
        "outputId": "74b529f5-4ef4-42df-b4ad-db8ccf718653"
      },
      "execution_count": 12,
      "outputs": [
        {
          "output_type": "execute_result",
          "data": {
            "text/plain": [
              "0.19481310118105444"
            ]
          },
          "metadata": {},
          "execution_count": 12
        }
      ]
    },
    {
      "cell_type": "markdown",
      "source": [
        "O dataset é extremamente desbalanceado, com apenas 0.12% dos dados representando fraudes. Dentre as fraudes, apenas 0.2% delas foram automaticamente marcadas pelo banco como fraude por tentarem transferir mais de 200.000 em uma única transação."
      ],
      "metadata": {
        "id": "aBd8YeZkJu1j"
      }
    },
    {
      "cell_type": "code",
      "source": [
        "df_frauds = df[df['isFraud']==1]\n",
        "df_normal = df[df['isFraud']==0]"
      ],
      "metadata": {
        "id": "VNDyhxF4KLYp"
      },
      "execution_count": 14,
      "outputs": []
    },
    {
      "cell_type": "code",
      "source": [
        "fig, axes = plt.subplots(1,2,figsize=(20,7)) \n",
        "\n",
        "sns.countplot(data = df, ax=axes[0], x = 'type', order = ['PAYMENT', 'TRANSFER', 'CASH_OUT', 'DEBIT', 'CASH_IN'])\n",
        "axes[0].set_title('Type')\n",
        "\n",
        "sns.countplot(data = df_frauds, ax=axes[1], x='type', order = ['PAYMENT', 'TRANSFER', 'CASH_OUT', 'DEBIT', 'CASH_IN'])\n",
        "axes[1].set_title('Fraud Type')\n",
        "\n",
        "plt.tight_layout()\n",
        "plt.show()   \n"
      ],
      "metadata": {
        "colab": {
          "base_uri": "https://localhost:8080/",
          "height": 418
        },
        "id": "hIut0GUzKUE7",
        "outputId": "3a2f82f8-ca1a-4541-ecbe-766bd1c0a9f1"
      },
      "execution_count": 15,
      "outputs": [
        {
          "output_type": "display_data",
          "data": {
            "text/plain": [
              "<Figure size 1440x504 with 2 Axes>"
            ],
            "image/png": "[encoded data removed]"
          },
          "metadata": {}
        }
      ]
    },
    {
      "cell_type": "markdown",
      "source": [
        "Só existem fraudes identificadas dos tipos transfer e cash out."
      ],
      "metadata": {
        "id": "rzVQ_CULK9tQ"
      }
    },
    {
      "cell_type": "code",
      "source": [
        "ax = sns.boxplot(data = df, x='type', y='amount', hue='isFraud')\n",
        "ax.set_ylim([-500000, 5000000])\n",
        "plt.show()"
      ],
      "metadata": {
        "colab": {
          "base_uri": "https://localhost:8080/",
          "height": 372
        },
        "id": "f-TrkGf2K-l0",
        "outputId": "6b498e77-58f4-4e5e-c326-a5acf8f3255d"
      },
      "execution_count": 16,
      "outputs": [
        {
          "output_type": "display_data",
          "data": {
            "text/plain": [
              "<Figure size 576x396 with 1 Axes>"
            ],
            "image/png": "[encoded data removed]"
          },
          "metadata": {}
        }
      ]
    },
    {
      "cell_type": "code",
      "source": [
        "ax = sns.boxplot(data = df, x='isFraud', y='amount')\n",
        "ax.set_ylim([-500000, 5000000])\n",
        "plt.show()"
      ],
      "metadata": {
        "colab": {
          "base_uri": "https://localhost:8080/",
          "height": 372
        },
        "id": "XRLCeno4LUsc",
        "outputId": "9b1dcf59-a287-455d-8102-f79a7015695a"
      },
      "execution_count": 17,
      "outputs": [
        {
          "output_type": "display_data",
          "data": {
            "text/plain": [
              "<Figure size 576x396 with 1 Axes>"
            ],
            "image/png": "[encoded data removed]"
          },
          "metadata": {}
        }
      ]
    },
    {
      "cell_type": "markdown",
      "source": [
        "Fraudes tem, em geral, valores mais altos que os valores de transações usuais."
      ],
      "metadata": {
        "id": "Rwt58z0LLe9-"
      }
    },
    {
      "cell_type": "code",
      "source": [
        "fig, axes = plt.subplots(2,2,figsize=(20,10)) \n",
        "\n",
        "sns.scatterplot(data = df_normal, ax=axes[0][0], x = 'oldbalanceOrg', y='amount', hue='type')\n",
        "axes[0][0].set_title('Not Fraudulent Amount vs Old Balance Origin')\n",
        "\n",
        "sns.scatterplot(data = df_normal, ax=axes[0][1], x = 'oldbalanceDest', y='amount', hue='type')\n",
        "axes[0][1].set_title('Not Fraudulent Amount vs Old Balance Dest')\n",
        "\n",
        "sns.scatterplot(data = df_frauds, ax=axes[1][0], x = 'oldbalanceOrg', y='amount', hue='type')\n",
        "axes[1][0].set_title('Fraudulent Amount vs Old Balance Origin')\n",
        "\n",
        "sns.scatterplot(data = df_frauds, ax=axes[1][1], x = 'oldbalanceDest', y='amount', hue='type')\n",
        "axes[1][1].set_title('Fraudulent Amount vs Old Balance Dest')\n",
        "\n",
        "plt.tight_layout()\n",
        "plt.show()   "
      ],
      "metadata": {
        "colab": {
          "base_uri": "https://localhost:8080/",
          "height": 593
        },
        "id": "CMhwfig1Onma",
        "outputId": "3ecdea87-43e2-4a49-f5d6-c23d1d1710d9"
      },
      "execution_count": 23,
      "outputs": [
        {
          "output_type": "display_data",
          "data": {
            "text/plain": [
              "<Figure size 1440x720 with 4 Axes>"
            ],
            "image/png": "[encoded data removed]"
          },
          "metadata": {}
        }
      ]
    },
    {
      "cell_type": "code",
      "source": [
        "fig, axes = plt.subplots(2,2,figsize=(20,10)) \n",
        "\n",
        "sns.scatterplot(data = df_normal, ax=axes[0][0], x = 'newbalanceOrig', y='amount', hue='type')\n",
        "axes[0][0].set_title('Not Fraudulent Amount vs New Balance Origin')\n",
        "\n",
        "sns.scatterplot(data = df_normal, ax=axes[0][1], x = 'newbalanceDest', y='amount', hue='type')\n",
        "axes[0][1].set_title('Not Fraudulent Amount vs New Balance Dest')\n",
        "\n",
        "sns.scatterplot(data = df_frauds, ax=axes[1][0], x = 'newbalanceOrig', y='amount', hue='type')\n",
        "axes[1][0].set_title('Fraudulent Amount vs New Balance Origin')\n",
        "\n",
        "sns.scatterplot(data = df_frauds, ax=axes[1][1], x = 'newbalanceDest', y='amount', hue='type')\n",
        "axes[1][1].set_title('Fraudulent Amount vs New Balance Dest')\n",
        "\n",
        "plt.tight_layout()\n",
        "plt.show()   "
      ],
      "metadata": {
        "colab": {
          "base_uri": "https://localhost:8080/",
          "height": 593
        },
        "id": "ypQ5aYzIQ5JL",
        "outputId": "332a3679-ac3b-4c9b-f896-0f8d4c536296"
      },
      "execution_count": 24,
      "outputs": [
        {
          "output_type": "display_data",
          "data": {
            "text/plain": [
              "<Figure size 1440x720 with 4 Axes>"
            ],
            "image/png": "[encoded data removed]"
          },
          "metadata": {}
        }
      ]
    },
    {
      "cell_type": "markdown",
      "source": [
        "Vemos que o SaldoInicialDeOrigem parece ter uma relação bem definida com o valor em casos de fraude, em que para contas que tenham mais de 10.000.000 este é o valor transferido e para contas com menor valor em geral o valor disponível é transferido.\n",
        "\n",
        "Em casos de fraude, para contas destino com maior saldo geralmente a fraude é através de saques, enquanto saldos menores geralmente recebem via transferência."
      ],
      "metadata": {
        "id": "8DVK5UD-U0HX"
      }
    },
    {
      "cell_type": "code",
      "source": [
        "corr = df.corr().round(2)\n",
        "mask = np.triu(np.ones_like(corr, dtype=bool))\n",
        "\n",
        "plt.figure(figsize=(15,10))\n",
        "sns.heatmap(corr, annot=True, mask=mask, cmap='coolwarm')\n",
        "plt.show()"
      ],
      "metadata": {
        "colab": {
          "base_uri": "https://localhost:8080/",
          "height": 596
        },
        "id": "k3nj5xHsVeE8",
        "outputId": "325aa2ae-3b1f-42e5-a3e4-2ea6cc8c59f7"
      },
      "execution_count": 26,
      "outputs": [
        {
          "output_type": "display_data",
          "data": {
            "text/plain": [
              "<Figure size 1080x720 with 2 Axes>"
            ],
            "image/png": "[encoded data removed]"
          },
          "metadata": {}
        }
      ]
    },
    {
      "cell_type": "markdown",
      "source": [
        "O saldo de inicial e final é muito correlacinado, tanto para contas de origem quanto contas destino, enquanto para as demais features existem poucas relações."
      ],
      "metadata": {
        "id": "9i4nE5gZXdQK"
      }
    },
    {
      "cell_type": "markdown",
      "source": [
        "### Feature Engeneering"
      ],
      "metadata": {
        "id": "vd4uyN4eXg75"
      }
    },
    {
      "cell_type": "code",
      "source": [
        "df"
      ],
      "metadata": {
        "colab": {
          "base_uri": "https://localhost:8080/",
          "height": 488
        },
        "id": "NLlYR6kZYDjK",
        "outputId": "79091a2b-1963-4698-f359-16463927297b"
      },
      "execution_count": 27,
      "outputs": [
        {
          "output_type": "execute_result",
          "data": {
            "text/plain": [
              "         step      type        amount     nameOrig  oldbalanceOrg  \\\n",
              "0           1   PAYMENT    9839.64000  C1231006815   170136.00000   \n",
              "1           1   PAYMENT    1864.28000  C1666544295    21249.00000   \n",
              "2           1  TRANSFER     181.00000  C1305486145      181.00000   \n",
              "3           1  CASH_OUT     181.00000   C840083671      181.00000   \n",
              "4           1   PAYMENT   11668.14000  C2048537720    41554.00000   \n",
              "...       ...       ...           ...          ...            ...   \n",
              "6362615   743  CASH_OUT  339682.13000   C786484425   339682.13000   \n",
              "6362616   743  TRANSFER 6311409.28000  C1529008245  6311409.28000   \n",
              "6362617   743  CASH_OUT 6311409.28000  C1162922333  6311409.28000   \n",
              "6362618   743  TRANSFER  850002.52000  C1685995037   850002.52000   \n",
              "6362619   743  CASH_OUT  850002.52000  C1280323807   850002.52000   \n",
              "\n",
              "         newbalanceOrig     nameDest  oldbalanceDest  newbalanceDest  isFraud  \\\n",
              "0          160296.36000  M1979787155         0.00000         0.00000        0   \n",
              "1           19384.72000  M2044282225         0.00000         0.00000        0   \n",
              "2               0.00000   C553264065         0.00000         0.00000        1   \n",
              "3               0.00000    C38997010     21182.00000         0.00000        1   \n",
              "4           29885.86000  M1230701703         0.00000         0.00000        0   \n",
              "...                 ...          ...             ...             ...      ...   \n",
              "6362615         0.00000   C776919290         0.00000    339682.13000        1   \n",
              "6362616         0.00000  C1881841831         0.00000         0.00000        1   \n",
              "6362617         0.00000  C1365125890     68488.84000   6379898.11000        1   \n",
              "6362618         0.00000  C2080388513         0.00000         0.00000        1   \n",
              "6362619         0.00000   C873221189   6510099.11000   7360101.63000        1   \n",
              "\n",
              "         isFlaggedFraud  \n",
              "0                     0  \n",
              "1                     0  \n",
              "2                     0  \n",
              "3                     0  \n",
              "4                     0  \n",
              "...                 ...  \n",
              "6362615               0  \n",
              "6362616               0  \n",
              "6362617               0  \n",
              "6362618               0  \n",
              "6362619               0  \n",
              "\n",
              "[6362620 rows x 11 columns]"
            ],
            "text/html": [
              "\n",
              "  <div id=\"df-7844920a-6f6d-404c-a748-d174e1fff844\">\n",
              "    <div class=\"colab-df-container\">\n",
              "      <div>\n",
              "<style scoped>\n",
              "    .dataframe tbody tr th:only-of-type {\n",
              "        vertical-align: middle;\n",
              "    }\n",
              "\n",
              "    .dataframe tbody tr th {\n",
              "        vertical-align: top;\n",
              "    }\n",
              "\n",
              "    .dataframe thead th {\n",
              "        text-align: right;\n",
              "    }\n",
              "</style>\n",
              "<table border=\"1\" class=\"dataframe\">\n",
              "  <thead>\n",
              "    <tr style=\"text-align: right;\">\n",
              "      <th></th>\n",
              "      <th>step</th>\n",
              "      <th>type</th>\n",
              "      <th>amount</th>\n",
              "      <th>nameOrig</th>\n",
              "      <th>oldbalanceOrg</th>\n",
              "      <th>newbalanceOrig</th>\n",
              "      <th>nameDest</th>\n",
              "      <th>oldbalanceDest</th>\n",
              "      <th>newbalanceDest</th>\n",
              "      <th>isFraud</th>\n",
              "      <th>isFlaggedFraud</th>\n",
              "    </tr>\n",
              "  </thead>\n",
              "  <tbody>\n",
              "    <tr>\n",
              "      <th>0</th>\n",
              "      <td>1</td>\n",
              "      <td>PAYMENT</td>\n",
              "      <td>9839.64000</td>\n",
              "      <td>C1231006815</td>\n",
              "      <td>170136.00000</td>\n",
              "      <td>160296.36000</td>\n",
              "      <td>M1979787155</td>\n",
              "      <td>0.00000</td>\n",
              "      <td>0.00000</td>\n",
              "      <td>0</td>\n",
              "      <td>0</td>\n",
              "    </tr>\n",
              "    <tr>\n",
              "      <th>1</th>\n",
              "      <td>1</td>\n",
              "      <td>PAYMENT</td>\n",
              "      <td>1864.28000</td>\n",
              "      <td>C1666544295</td>\n",
              "      <td>21249.00000</td>\n",
              "      <td>19384.72000</td>\n",
              "      <td>M2044282225</td>\n",
              "      <td>0.00000</td>\n",
              "      <td>0.00000</td>\n",
              "      <td>0</td>\n",
              "      <td>0</td>\n",
              "    </tr>\n",
              "    <tr>\n",
              "      <th>2</th>\n",
              "      <td>1</td>\n",
              "      <td>TRANSFER</td>\n",
              "      <td>181.00000</td>\n",
              "      <td>C1305486145</td>\n",
              "      <td>181.00000</td>\n",
              "      <td>0.00000</td>\n",
              "      <td>C553264065</td>\n",
              "      <td>0.00000</td>\n",
              "      <td>0.00000</td>\n",
              "      <td>1</td>\n",
              "      <td>0</td>\n",
              "    </tr>\n",
              "    <tr>\n",
              "      <th>3</th>\n",
              "      <td>1</td>\n",
              "      <td>CASH_OUT</td>\n",
              "      <td>181.00000</td>\n",
              "      <td>C840083671</td>\n",
              "      <td>181.00000</td>\n",
              "      <td>0.00000</td>\n",
              "      <td>C38997010</td>\n",
              "      <td>21182.00000</td>\n",
              "      <td>0.00000</td>\n",
              "      <td>1</td>\n",
              "      <td>0</td>\n",
              "    </tr>\n",
              "    <tr>\n",
              "      <th>4</th>\n",
              "      <td>1</td>\n",
              "      <td>PAYMENT</td>\n",
              "      <td>11668.14000</td>\n",
              "      <td>C2048537720</td>\n",
              "      <td>41554.00000</td>\n",
              "      <td>29885.86000</td>\n",
              "      <td>M1230701703</td>\n",
              "      <td>0.00000</td>\n",
              "      <td>0.00000</td>\n",
              "      <td>0</td>\n",
              "      <td>0</td>\n",
              "    </tr>\n",
              "    <tr>\n",
              "      <th>...</th>\n",
              "      <td>...</td>\n",
              "      <td>...</td>\n",
              "      <td>...</td>\n",
              "      <td>...</td>\n",
              "      <td>...</td>\n",
              "      <td>...</td>\n",
              "      <td>...</td>\n",
              "      <td>...</td>\n",
              "      <td>...</td>\n",
              "      <td>...</td>\n",
              "      <td>...</td>\n",
              "    </tr>\n",
              "    <tr>\n",
              "      <th>6362615</th>\n",
              "      <td>743</td>\n",
              "      <td>CASH_OUT</td>\n",
              "      <td>339682.13000</td>\n",
              "      <td>C786484425</td>\n",
              "      <td>339682.13000</td>\n",
              "      <td>0.00000</td>\n",
              "      <td>C776919290</td>\n",
              "      <td>0.00000</td>\n",
              "      <td>339682.13000</td>\n",
              "      <td>1</td>\n",
              "      <td>0</td>\n",
              "    </tr>\n",
              "    <tr>\n",
              "      <th>6362616</th>\n",
              "      <td>743</td>\n",
              "      <td>TRANSFER</td>\n",
              "      <td>6311409.28000</td>\n",
              "      <td>C1529008245</td>\n",
              "      <td>6311409.28000</td>\n",
              "      <td>0.00000</td>\n",
              "      <td>C1881841831</td>\n",
              "      <td>0.00000</td>\n",
              "      <td>0.00000</td>\n",
              "      <td>1</td>\n",
              "      <td>0</td>\n",
              "    </tr>\n",
              "    <tr>\n",
              "      <th>6362617</th>\n",
              "      <td>743</td>\n",
              "      <td>CASH_OUT</td>\n",
              "      <td>6311409.28000</td>\n",
              "      <td>C1162922333</td>\n",
              "      <td>6311409.28000</td>\n",
              "      <td>0.00000</td>\n",
              "      <td>C1365125890</td>\n",
              "      <td>68488.84000</td>\n",
              "      <td>6379898.11000</td>\n",
              "      <td>1</td>\n",
              "      <td>0</td>\n",
              "    </tr>\n",
              "    <tr>\n",
              "      <th>6362618</th>\n",
              "      <td>743</td>\n",
              "      <td>TRANSFER</td>\n",
              "      <td>850002.52000</td>\n",
              "      <td>C1685995037</td>\n",
              "      <td>850002.52000</td>\n",
              "      <td>0.00000</td>\n",
              "      <td>C2080388513</td>\n",
              "      <td>0.00000</td>\n",
              "      <td>0.00000</td>\n",
              "      <td>1</td>\n",
              "      <td>0</td>\n",
              "    </tr>\n",
              "    <tr>\n",
              "      <th>6362619</th>\n",
              "      <td>743</td>\n",
              "      <td>CASH_OUT</td>\n",
              "      <td>850002.52000</td>\n",
              "      <td>C1280323807</td>\n",
              "      <td>850002.52000</td>\n",
              "      <td>0.00000</td>\n",
              "      <td>C873221189</td>\n",
              "      <td>6510099.11000</td>\n",
              "      <td>7360101.63000</td>\n",
              "      <td>1</td>\n",
              "      <td>0</td>\n",
              "    </tr>\n",
              "  </tbody>\n",
              "</table>\n",
              "<p>6362620 rows × 11 columns</p>\n",
              "</div>\n",
              "      <button class=\"colab-df-convert\" onclick=\"convertToInteractive('df-7844920a-6f6d-404c-a748-d174e1fff844')\"\n",
              "              title=\"Convert this dataframe to an interactive table.\"\n",
              "              style=\"display:none;\">\n",
              "        \n",
              "  <svg xmlns=\"http://www.w3.org/2000/svg\" height=\"24px\"viewBox=\"0 0 24 24\"\n",
              "       width=\"24px\">\n",
              "    <path d=\"M0 0h24v24H0V0z\" fill=\"none\"/>\n",
              "    <path d=\"M18.56 5.44l.94 2.06.94-2.06 2.06-.94-2.06-.94-.94-2.06-.94 2.06-2.06.94zm-11 1L8.5 8.5l.94-2.06 2.06-.94-2.06-.94L8.5 2.5l-.94 2.06-2.06.94zm10 10l.94 2.06.94-2.06 2.06-.94-2.06-.94-.94-2.06-.94 2.06-2.06.94z\"/><path d=\"M17.41 7.96l-1.37-1.37c-.4-.4-.92-.59-1.43-.59-.52 0-1.04.2-1.43.59L10.3 9.45l-7.72 7.72c-.78.78-.78 2.05 0 2.83L4 21.41c.39.39.9.59 1.41.59.51 0 1.02-.2 1.41-.59l7.78-7.78 2.81-2.81c.8-.78.8-2.07 0-2.86zM5.41 20L4 18.59l7.72-7.72 1.47 1.35L5.41 20z\"/>\n",
              "  </svg>\n",
              "      </button>\n",
              "      \n",
              "  <style>\n",
              "    .colab-df-container {\n",
              "      display:flex;\n",
              "      flex-wrap:wrap;\n",
              "      gap: 12px;\n",
              "    }\n",
              "\n",
              "    .colab-df-convert {\n",
              "      background-color: #E8F0FE;\n",
              "      border: none;\n",
              "      border-radius: 50%;\n",
              "      cursor: pointer;\n",
              "      display: none;\n",
              "      fill: #1967D2;\n",
              "      height: 32px;\n",
              "      padding: 0 0 0 0;\n",
              "      width: 32px;\n",
              "    }\n",
              "\n",
              "    .colab-df-convert:hover {\n",
              "      background-color: #E2EBFA;\n",
              "      box-shadow: 0px 1px 2px rgba(60, 64, 67, 0.3), 0px 1px 3px 1px rgba(60, 64, 67, 0.15);\n",
              "      fill: #174EA6;\n",
              "    }\n",
              "\n",
              "    [theme=dark] .colab-df-convert {\n",
              "      background-color: #3B4455;\n",
              "      fill: #D2E3FC;\n",
              "    }\n",
              "\n",
              "    [theme=dark] .colab-df-convert:hover {\n",
              "      background-color: #434B5C;\n",
              "      box-shadow: 0px 1px 3px 1px rgba(0, 0, 0, 0.15);\n",
              "      filter: drop-shadow(0px 1px 2px rgba(0, 0, 0, 0.3));\n",
              "      fill: #FFFFFF;\n",
              "    }\n",
              "  </style>\n",
              "\n",
              "      <script>\n",
              "        const buttonEl =\n",
              "          document.querySelector('#df-7844920a-6f6d-404c-a748-d174e1fff844 button.colab-df-convert');\n",
              "        buttonEl.style.display =\n",
              "          google.colab.kernel.accessAllowed ? 'block' : 'none';\n",
              "\n",
              "        async function convertToInteractive(key) {\n",
              "          const element = document.querySelector('#df-7844920a-6f6d-404c-a748-d174e1fff844');\n",
              "          const dataTable =\n",
              "            await google.colab.kernel.invokeFunction('convertToInteractive',\n",
              "                                                     [key], {});\n",
              "          if (!dataTable) return;\n",
              "\n",
              "          const docLinkHtml = 'Like what you see? Visit the ' +\n",
              "            '<a target=\"_blank\" href=https://colab.research.google.com/notebooks/data_table.ipynb>data table notebook</a>'\n",
              "            + ' to learn more about interactive tables.';\n",
              "          element.innerHTML = '';\n",
              "          dataTable['output_type'] = 'display_data';\n",
              "          await google.colab.output.renderOutput(dataTable, element);\n",
              "          const docLink = document.createElement('div');\n",
              "          docLink.innerHTML = docLinkHtml;\n",
              "          element.appendChild(docLink);\n",
              "        }\n",
              "      </script>\n",
              "    </div>\n",
              "  </div>\n",
              "  "
            ]
          },
          "metadata": {},
          "execution_count": 27
        }
      ]
    },
    {
      "cell_type": "markdown",
      "source": [
        "Uma vez que a informação do step representa 1 hora, podemos criar novas features, como o dia do mês e o horário do dia em que aconteceu a transação."
      ],
      "metadata": {
        "id": "V-5Il9oMY2G-"
      }
    },
    {
      "cell_type": "code",
      "source": [
        "df['day'] = (df['step']//24)+1"
      ],
      "metadata": {
        "id": "_hG6SX2BY1zE"
      },
      "execution_count": 28,
      "outputs": []
    },
    {
      "cell_type": "code",
      "source": [
        "df['hour'] = (df['step']) - (df['day']-1)*24"
      ],
      "metadata": {
        "id": "25z3Ah93Zf2w"
      },
      "execution_count": 29,
      "outputs": []
    },
    {
      "cell_type": "code",
      "source": [
        "fig, axes = plt.subplots(1,2,figsize=(20,5)) \n",
        "\n",
        "sns.countplot(data = df, ax=axes[0], x = 'day')\n",
        "axes[0].set_title('Day')\n",
        "\n",
        "sns.countplot(data = df[df['isFraud']==1], ax=axes[1], x='day')\n",
        "axes[1].set_title('Fraud per Day')\n",
        "\n",
        "plt.tight_layout()\n",
        "plt.show()  "
      ],
      "metadata": {
        "colab": {
          "base_uri": "https://localhost:8080/",
          "height": 302
        },
        "id": "jAwdsYaJabPx",
        "outputId": "52e046fd-941e-4d36-8c59-dabd22ecbc0c"
      },
      "execution_count": 31,
      "outputs": [
        {
          "output_type": "display_data",
          "data": {
            "text/plain": [
              "<Figure size 1440x360 with 2 Axes>"
            ],
            "image/png": "[encoded data removed]"
          },
          "metadata": {}
        }
      ]
    },
    {
      "cell_type": "code",
      "source": [
        "fig, axes = plt.subplots(1,2,figsize=(20,5)) \n",
        "\n",
        "sns.countplot(data = df, ax=axes[0], x = 'hour')\n",
        "axes[0].set_title('Hour')\n",
        "\n",
        "sns.countplot(data = df[df['isFraud']==1], ax=axes[1], x='hour')\n",
        "axes[1].set_title('Fraud per Hour')\n",
        "\n",
        "plt.tight_layout()\n",
        "plt.show()  "
      ],
      "metadata": {
        "colab": {
          "base_uri": "https://localhost:8080/",
          "height": 302
        },
        "id": "QNmfj9agam9o",
        "outputId": "9fde5f49-b289-45c1-a734-b4d8dbf5f7f7"
      },
      "execution_count": 32,
      "outputs": [
        {
          "output_type": "display_data",
          "data": {
            "text/plain": [
              "<Figure size 1440x360 with 2 Axes>"
            ],
            "image/png": "[encoded data removed]"
          },
          "metadata": {}
        }
      ]
    },
    {
      "cell_type": "markdown",
      "source": [
        "É interessante observar que existe uma concentração de transação os dois primeiros dias e também entre o dia 6 e 17.\n",
        "\n",
        "Da mesma forma, existe uma maior concentração de transações entre as 9h e 20h, o que é condizente com o que se espera.\n",
        "\n",
        "No entanto, a mesma tendência não é observada nas fraudes, sendo realizadas de forma distribuida ao longo do mes e ao longo do dia. Assim, temos dias e horários em que a concentração de transações é maior, o que podem ser informações interessantes para a modelagem, assim, usaremos Dia e Hora ao invés do Step.\n",
        "\n",
        "Iremos também retirar a feature isFlaggedFraud, já que ela é pouco representativa dos dados fraudulentos e já é observada pelo banco."
      ],
      "metadata": {
        "id": "y0kHbuD0bKi7"
      }
    },
    {
      "cell_type": "code",
      "source": [
        "df.drop('step', axis=1, inplace=True)"
      ],
      "metadata": {
        "id": "2brvvvpCbOzS"
      },
      "execution_count": 33,
      "outputs": []
    },
    {
      "cell_type": "code",
      "source": [
        "df.drop('isFlaggedFraud', axis=1, inplace=True)"
      ],
      "metadata": {
        "id": "uP8JcyPYbVs_"
      },
      "execution_count": 34,
      "outputs": []
    },
    {
      "cell_type": "markdown",
      "source": [
        "Nosso modelo deve ser capaz de identificar contas diferentes, mesmo dentre contas que ele nunca viu até o momento, portanto, o labelencoding das contas será feito antes do split."
      ],
      "metadata": {
        "id": "w15as9haduGe"
      }
    },
    {
      "cell_type": "code",
      "source": [
        "label_encoder = LabelEncoder()\n",
        "\n",
        "df['nameOrig_encode'] = label_encoder.fit_transform(df['nameOrig']) \n",
        "df['nameDest_encode'] = label_encoder.fit_transform(df['nameDest'])\n",
        "\n",
        "df.drop(columns=['nameDest', 'nameOrig'], inplace=True)"
      ],
      "metadata": {
        "id": "DnHKJoQTdwSx"
      },
      "execution_count": 35,
      "outputs": []
    },
    {
      "cell_type": "markdown",
      "source": [
        "O mesmo vale para a variável 'type', visto que existirão todos os tipos tanto no treino quanto teste."
      ],
      "metadata": {
        "id": "CeFgZurqeR19"
      }
    },
    {
      "cell_type": "code",
      "source": [
        "df = pd.get_dummies(df, columns=[\"type\"], prefix=[\"type_\"])"
      ],
      "metadata": {
        "id": "p_AVH3lVeSjQ"
      },
      "execution_count": 36,
      "outputs": []
    },
    {
      "cell_type": "code",
      "source": [
        "df"
      ],
      "metadata": {
        "colab": {
          "base_uri": "https://localhost:8080/",
          "height": 488
        },
        "id": "HB9rW0CweYv3",
        "outputId": "8144f1eb-0eb1-49d6-f502-1991d6fb985a"
      },
      "execution_count": 37,
      "outputs": [
        {
          "output_type": "execute_result",
          "data": {
            "text/plain": [
              "               amount  oldbalanceOrg  newbalanceOrig  oldbalanceDest  \\\n",
              "0          9839.64000   170136.00000    160296.36000         0.00000   \n",
              "1          1864.28000    21249.00000     19384.72000         0.00000   \n",
              "2           181.00000      181.00000         0.00000         0.00000   \n",
              "3           181.00000      181.00000         0.00000     21182.00000   \n",
              "4         11668.14000    41554.00000     29885.86000         0.00000   \n",
              "...               ...            ...             ...             ...   \n",
              "6362615  339682.13000   339682.13000         0.00000         0.00000   \n",
              "6362616 6311409.28000  6311409.28000         0.00000         0.00000   \n",
              "6362617 6311409.28000  6311409.28000         0.00000     68488.84000   \n",
              "6362618  850002.52000   850002.52000         0.00000         0.00000   \n",
              "6362619  850002.52000   850002.52000         0.00000   6510099.11000   \n",
              "\n",
              "         newbalanceDest  isFraud  day  hour  nameOrig_encode  nameDest_encode  \\\n",
              "0               0.00000        0    1     1           757869          1662094   \n",
              "1               0.00000        0    1     1          2188998          1733924   \n",
              "2               0.00000        1    1     1          1002156           439685   \n",
              "3               0.00000        1    1     1          5828262           391696   \n",
              "4               0.00000        0    1     1          3445981           828919   \n",
              "...                 ...      ...  ...   ...              ...              ...   \n",
              "6362615    339682.13000        1   31    23          5651847           505863   \n",
              "6362616         0.00000        1   31    23          1737278           260949   \n",
              "6362617   6379898.11000        1   31    23           533958           108224   \n",
              "6362618         0.00000        1   31    23          2252932           319713   \n",
              "6362619   7360101.63000        1   31    23           919229           534595   \n",
              "\n",
              "         type__CASH_IN  type__CASH_OUT  type__DEBIT  type__PAYMENT  \\\n",
              "0                    0               0            0              1   \n",
              "1                    0               0            0              1   \n",
              "2                    0               0            0              0   \n",
              "3                    0               1            0              0   \n",
              "4                    0               0            0              1   \n",
              "...                ...             ...          ...            ...   \n",
              "6362615              0               1            0              0   \n",
              "6362616              0               0            0              0   \n",
              "6362617              0               1            0              0   \n",
              "6362618              0               0            0              0   \n",
              "6362619              0               1            0              0   \n",
              "\n",
              "         type__TRANSFER  \n",
              "0                     0  \n",
              "1                     0  \n",
              "2                     1  \n",
              "3                     0  \n",
              "4                     0  \n",
              "...                 ...  \n",
              "6362615               0  \n",
              "6362616               1  \n",
              "6362617               0  \n",
              "6362618               1  \n",
              "6362619               0  \n",
              "\n",
              "[6362620 rows x 15 columns]"
            ],
            "text/html": [
              "\n",
              "  <div id=\"df-84e5e40b-f6b0-4e64-a69d-b0174b6cbd1f\">\n",
              "    <div class=\"colab-df-container\">\n",
              "      <div>\n",
              "<style scoped>\n",
              "    .dataframe tbody tr th:only-of-type {\n",
              "        vertical-align: middle;\n",
              "    }\n",
              "\n",
              "    .dataframe tbody tr th {\n",
              "        vertical-align: top;\n",
              "    }\n",
              "\n",
              "    .dataframe thead th {\n",
              "        text-align: right;\n",
              "    }\n",
              "</style>\n",
              "<table border=\"1\" class=\"dataframe\">\n",
              "  <thead>\n",
              "    <tr style=\"text-align: right;\">\n",
              "      <th></th>\n",
              "      <th>amount</th>\n",
              "      <th>oldbalanceOrg</th>\n",
              "      <th>newbalanceOrig</th>\n",
              "      <th>oldbalanceDest</th>\n",
              "      <th>newbalanceDest</th>\n",
              "      <th>isFraud</th>\n",
              "      <th>day</th>\n",
              "      <th>hour</th>\n",
              "      <th>nameOrig_encode</th>\n",
              "      <th>nameDest_encode</th>\n",
              "      <th>type__CASH_IN</th>\n",
              "      <th>type__CASH_OUT</th>\n",
              "      <th>type__DEBIT</th>\n",
              "      <th>type__PAYMENT</th>\n",
              "      <th>type__TRANSFER</th>\n",
              "    </tr>\n",
              "  </thead>\n",
              "  <tbody>\n",
              "    <tr>\n",
              "      <th>0</th>\n",
              "      <td>9839.64000</td>\n",
              "      <td>170136.00000</td>\n",
              "      <td>160296.36000</td>\n",
              "      <td>0.00000</td>\n",
              "      <td>0.00000</td>\n",
              "      <td>0</td>\n",
              "      <td>1</td>\n",
              "      <td>1</td>\n",
              "      <td>757869</td>\n",
              "      <td>1662094</td>\n",
              "      <td>0</td>\n",
              "      <td>0</td>\n",
              "      <td>0</td>\n",
              "      <td>1</td>\n",
              "      <td>0</td>\n",
              "    </tr>\n",
              "    <tr>\n",
              "      <th>1</th>\n",
              "      <td>1864.28000</td>\n",
              "      <td>21249.00000</td>\n",
              "      <td>19384.72000</td>\n",
              "      <td>0.00000</td>\n",
              "      <td>0.00000</td>\n",
              "      <td>0</td>\n",
              "      <td>1</td>\n",
              "      <td>1</td>\n",
              "      <td>2188998</td>\n",
              "      <td>1733924</td>\n",
              "      <td>0</td>\n",
              "      <td>0</td>\n",
              "      <td>0</td>\n",
              "      <td>1</td>\n",
              "      <td>0</td>\n",
              "    </tr>\n",
              "    <tr>\n",
              "      <th>2</th>\n",
              "      <td>181.00000</td>\n",
              "      <td>181.00000</td>\n",
              "      <td>0.00000</td>\n",
              "      <td>0.00000</td>\n",
              "      <td>0.00000</td>\n",
              "      <td>1</td>\n",
              "      <td>1</td>\n",
              "      <td>1</td>\n",
              "      <td>1002156</td>\n",
              "      <td>439685</td>\n",
              "      <td>0</td>\n",
              "      <td>0</td>\n",
              "      <td>0</td>\n",
              "      <td>0</td>\n",
              "      <td>1</td>\n",
              "    </tr>\n",
              "    <tr>\n",
              "      <th>3</th>\n",
              "      <td>181.00000</td>\n",
              "      <td>181.00000</td>\n",
              "      <td>0.00000</td>\n",
              "      <td>21182.00000</td>\n",
              "      <td>0.00000</td>\n",
              "      <td>1</td>\n",
              "      <td>1</td>\n",
              "      <td>1</td>\n",
              "      <td>5828262</td>\n",
              "      <td>391696</td>\n",
              "      <td>0</td>\n",
              "      <td>1</td>\n",
              "      <td>0</td>\n",
              "      <td>0</td>\n",
              "      <td>0</td>\n",
              "    </tr>\n",
              "    <tr>\n",
              "      <th>4</th>\n",
              "      <td>11668.14000</td>\n",
              "      <td>41554.00000</td>\n",
              "      <td>29885.86000</td>\n",
              "      <td>0.00000</td>\n",
              "      <td>0.00000</td>\n",
              "      <td>0</td>\n",
              "      <td>1</td>\n",
              "      <td>1</td>\n",
              "      <td>3445981</td>\n",
              "      <td>828919</td>\n",
              "      <td>0</td>\n",
              "      <td>0</td>\n",
              "      <td>0</td>\n",
              "      <td>1</td>\n",
              "      <td>0</td>\n",
              "    </tr>\n",
              "    <tr>\n",
              "      <th>...</th>\n",
              "      <td>...</td>\n",
              "      <td>...</td>\n",
              "      <td>...</td>\n",
              "      <td>...</td>\n",
              "      <td>...</td>\n",
              "      <td>...</td>\n",
              "      <td>...</td>\n",
              "      <td>...</td>\n",
              "      <td>...</td>\n",
              "      <td>...</td>\n",
              "      <td>...</td>\n",
              "      <td>...</td>\n",
              "      <td>...</td>\n",
              "      <td>...</td>\n",
              "      <td>...</td>\n",
              "    </tr>\n",
              "    <tr>\n",
              "      <th>6362615</th>\n",
              "      <td>339682.13000</td>\n",
              "      <td>339682.13000</td>\n",
              "      <td>0.00000</td>\n",
              "      <td>0.00000</td>\n",
              "      <td>339682.13000</td>\n",
              "      <td>1</td>\n",
              "      <td>31</td>\n",
              "      <td>23</td>\n",
              "      <td>5651847</td>\n",
              "      <td>505863</td>\n",
              "      <td>0</td>\n",
              "      <td>1</td>\n",
              "      <td>0</td>\n",
              "      <td>0</td>\n",
              "      <td>0</td>\n",
              "    </tr>\n",
              "    <tr>\n",
              "      <th>6362616</th>\n",
              "      <td>6311409.28000</td>\n",
              "      <td>6311409.28000</td>\n",
              "      <td>0.00000</td>\n",
              "      <td>0.00000</td>\n",
              "      <td>0.00000</td>\n",
              "      <td>1</td>\n",
              "      <td>31</td>\n",
              "      <td>23</td>\n",
              "      <td>1737278</td>\n",
              "      <td>260949</td>\n",
              "      <td>0</td>\n",
              "      <td>0</td>\n",
              "      <td>0</td>\n",
              "      <td>0</td>\n",
              "      <td>1</td>\n",
              "    </tr>\n",
              "    <tr>\n",
              "      <th>6362617</th>\n",
              "      <td>6311409.28000</td>\n",
              "      <td>6311409.28000</td>\n",
              "      <td>0.00000</td>\n",
              "      <td>68488.84000</td>\n",
              "      <td>6379898.11000</td>\n",
              "      <td>1</td>\n",
              "      <td>31</td>\n",
              "      <td>23</td>\n",
              "      <td>533958</td>\n",
              "      <td>108224</td>\n",
              "      <td>0</td>\n",
              "      <td>1</td>\n",
              "      <td>0</td>\n",
              "      <td>0</td>\n",
              "      <td>0</td>\n",
              "    </tr>\n",
              "    <tr>\n",
              "      <th>6362618</th>\n",
              "      <td>850002.52000</td>\n",
              "      <td>850002.52000</td>\n",
              "      <td>0.00000</td>\n",
              "      <td>0.00000</td>\n",
              "      <td>0.00000</td>\n",
              "      <td>1</td>\n",
              "      <td>31</td>\n",
              "      <td>23</td>\n",
              "      <td>2252932</td>\n",
              "      <td>319713</td>\n",
              "      <td>0</td>\n",
              "      <td>0</td>\n",
              "      <td>0</td>\n",
              "      <td>0</td>\n",
              "      <td>1</td>\n",
              "    </tr>\n",
              "    <tr>\n",
              "      <th>6362619</th>\n",
              "      <td>850002.52000</td>\n",
              "      <td>850002.52000</td>\n",
              "      <td>0.00000</td>\n",
              "      <td>6510099.11000</td>\n",
              "      <td>7360101.63000</td>\n",
              "      <td>1</td>\n",
              "      <td>31</td>\n",
              "      <td>23</td>\n",
              "      <td>919229</td>\n",
              "      <td>534595</td>\n",
              "      <td>0</td>\n",
              "      <td>1</td>\n",
              "      <td>0</td>\n",
              "      <td>0</td>\n",
              "      <td>0</td>\n",
              "    </tr>\n",
              "  </tbody>\n",
              "</table>\n",
              "<p>6362620 rows × 15 columns</p>\n",
              "</div>\n",
              "      <button class=\"colab-df-convert\" onclick=\"convertToInteractive('df-84e5e40b-f6b0-4e64-a69d-b0174b6cbd1f')\"\n",
              "              title=\"Convert this dataframe to an interactive table.\"\n",
              "              style=\"display:none;\">\n",
              "        \n",
              "  <svg xmlns=\"http://www.w3.org/2000/svg\" height=\"24px\"viewBox=\"0 0 24 24\"\n",
              "       width=\"24px\">\n",
              "    <path d=\"M0 0h24v24H0V0z\" fill=\"none\"/>\n",
              "    <path d=\"M18.56 5.44l.94 2.06.94-2.06 2.06-.94-2.06-.94-.94-2.06-.94 2.06-2.06.94zm-11 1L8.5 8.5l.94-2.06 2.06-.94-2.06-.94L8.5 2.5l-.94 2.06-2.06.94zm10 10l.94 2.06.94-2.06 2.06-.94-2.06-.94-.94-2.06-.94 2.06-2.06.94z\"/><path d=\"M17.41 7.96l-1.37-1.37c-.4-.4-.92-.59-1.43-.59-.52 0-1.04.2-1.43.59L10.3 9.45l-7.72 7.72c-.78.78-.78 2.05 0 2.83L4 21.41c.39.39.9.59 1.41.59.51 0 1.02-.2 1.41-.59l7.78-7.78 2.81-2.81c.8-.78.8-2.07 0-2.86zM5.41 20L4 18.59l7.72-7.72 1.47 1.35L5.41 20z\"/>\n",
              "  </svg>\n",
              "      </button>\n",
              "      \n",
              "  <style>\n",
              "    .colab-df-container {\n",
              "      display:flex;\n",
              "      flex-wrap:wrap;\n",
              "      gap: 12px;\n",
              "    }\n",
              "\n",
              "    .colab-df-convert {\n",
              "      background-color: #E8F0FE;\n",
              "      border: none;\n",
              "      border-radius: 50%;\n",
              "      cursor: pointer;\n",
              "      display: none;\n",
              "      fill: #1967D2;\n",
              "      height: 32px;\n",
              "      padding: 0 0 0 0;\n",
              "      width: 32px;\n",
              "    }\n",
              "\n",
              "    .colab-df-convert:hover {\n",
              "      background-color: #E2EBFA;\n",
              "      box-shadow: 0px 1px 2px rgba(60, 64, 67, 0.3), 0px 1px 3px 1px rgba(60, 64, 67, 0.15);\n",
              "      fill: #174EA6;\n",
              "    }\n",
              "\n",
              "    [theme=dark] .colab-df-convert {\n",
              "      background-color: #3B4455;\n",
              "      fill: #D2E3FC;\n",
              "    }\n",
              "\n",
              "    [theme=dark] .colab-df-convert:hover {\n",
              "      background-color: #434B5C;\n",
              "      box-shadow: 0px 1px 3px 1px rgba(0, 0, 0, 0.15);\n",
              "      filter: drop-shadow(0px 1px 2px rgba(0, 0, 0, 0.3));\n",
              "      fill: #FFFFFF;\n",
              "    }\n",
              "  </style>\n",
              "\n",
              "      <script>\n",
              "        const buttonEl =\n",
              "          document.querySelector('#df-84e5e40b-f6b0-4e64-a69d-b0174b6cbd1f button.colab-df-convert');\n",
              "        buttonEl.style.display =\n",
              "          google.colab.kernel.accessAllowed ? 'block' : 'none';\n",
              "\n",
              "        async function convertToInteractive(key) {\n",
              "          const element = document.querySelector('#df-84e5e40b-f6b0-4e64-a69d-b0174b6cbd1f');\n",
              "          const dataTable =\n",
              "            await google.colab.kernel.invokeFunction('convertToInteractive',\n",
              "                                                     [key], {});\n",
              "          if (!dataTable) return;\n",
              "\n",
              "          const docLinkHtml = 'Like what you see? Visit the ' +\n",
              "            '<a target=\"_blank\" href=https://colab.research.google.com/notebooks/data_table.ipynb>data table notebook</a>'\n",
              "            + ' to learn more about interactive tables.';\n",
              "          element.innerHTML = '';\n",
              "          dataTable['output_type'] = 'display_data';\n",
              "          await google.colab.output.renderOutput(dataTable, element);\n",
              "          const docLink = document.createElement('div');\n",
              "          docLink.innerHTML = docLinkHtml;\n",
              "          element.appendChild(docLink);\n",
              "        }\n",
              "      </script>\n",
              "    </div>\n",
              "  </div>\n",
              "  "
            ]
          },
          "metadata": {},
          "execution_count": 37
        }
      ]
    },
    {
      "cell_type": "code",
      "source": [
        "X = df.drop('isFraud', axis=1)\n",
        "y = df['isFraud']"
      ],
      "metadata": {
        "id": "vzht5ZVwfIV1"
      },
      "execution_count": 38,
      "outputs": []
    },
    {
      "cell_type": "code",
      "source": [
        "X_train, X_test, y_train, y_test = train_test_split(X, y,\n",
        "                                                    test_size = 0.33, \n",
        "                                                    stratify=y,\n",
        "                                                    random_state = 42)"
      ],
      "metadata": {
        "id": "-JnMYtCsfNls"
      },
      "execution_count": 39,
      "outputs": []
    },
    {
      "cell_type": "code",
      "source": [
        "X_train"
      ],
      "metadata": {
        "colab": {
          "base_uri": "https://localhost:8080/",
          "height": 488
        },
        "id": "eyKInCcFfXgF",
        "outputId": "972a2797-f032-4e15-d1a5-7634ffeb22d8"
      },
      "execution_count": 40,
      "outputs": [
        {
          "output_type": "execute_result",
          "data": {
            "text/plain": [
              "              amount  oldbalanceOrg  newbalanceOrig  oldbalanceDest  \\\n",
              "1135722 246135.47000    15225.00000         0.00000     42751.95000   \n",
              "1437333  99142.78000        0.00000         0.00000    254665.08000   \n",
              "2257519   5511.97000   166301.00000    171812.97000    104883.65000   \n",
              "5806166 506531.11000   107664.00000    614195.11000   4505008.95000   \n",
              "5455877  83717.62000    78209.00000         0.00000         0.00000   \n",
              "...              ...            ...             ...             ...   \n",
              "1422253 175520.68000      977.00000         0.00000     91159.52000   \n",
              "5834821 347110.99000   103785.00000         0.00000     87871.75000   \n",
              "4182953  13259.63000        0.00000         0.00000         0.00000   \n",
              "3985280  24122.92000        0.00000         0.00000         0.00000   \n",
              "1541412   6865.63000        0.00000         0.00000         0.00000   \n",
              "\n",
              "         newbalanceDest  day  hour  nameOrig_encode  nameDest_encode  \\\n",
              "1135722    288887.41000    6    11          5835453           292876   \n",
              "1437333    353807.87000    6    20           778787           383260   \n",
              "2257519     99371.67000    8    19           947217           306845   \n",
              "5806166   3998477.85000   17    17          2902635           215982   \n",
              "5455877     83717.62000   16    19          5203954            80400   \n",
              "...                 ...  ...   ...              ...              ...   \n",
              "1422253    266680.20000    6    19          1166733           298990   \n",
              "5834821    434982.74000   17    18          5657454           228205   \n",
              "4182953         0.00000   13    16          4857521          1891786   \n",
              "3985280         0.00000   13    10          2732082           997852   \n",
              "1541412         0.00000    7    10            45702          1375282   \n",
              "\n",
              "         type__CASH_IN  type__CASH_OUT  type__DEBIT  type__PAYMENT  \\\n",
              "1135722              0               1            0              0   \n",
              "1437333              0               1            0              0   \n",
              "2257519              1               0            0              0   \n",
              "5806166              1               0            0              0   \n",
              "5455877              0               1            0              0   \n",
              "...                ...             ...          ...            ...   \n",
              "1422253              0               0            0              0   \n",
              "5834821              0               1            0              0   \n",
              "4182953              0               0            0              1   \n",
              "3985280              0               0            0              1   \n",
              "1541412              0               0            0              1   \n",
              "\n",
              "         type__TRANSFER  \n",
              "1135722               0  \n",
              "1437333               0  \n",
              "2257519               0  \n",
              "5806166               0  \n",
              "5455877               0  \n",
              "...                 ...  \n",
              "1422253               1  \n",
              "5834821               0  \n",
              "4182953               0  \n",
              "3985280               0  \n",
              "1541412               0  \n",
              "\n",
              "[4262955 rows x 14 columns]"
            ],
            "text/html": [
              "\n",
              "  <div id=\"df-7d5e9bdf-2bc6-4496-81ce-d964b4bd88c5\">\n",
              "    <div class=\"colab-df-container\">\n",
              "      <div>\n",
              "<style scoped>\n",
              "    .dataframe tbody tr th:only-of-type {\n",
              "        vertical-align: middle;\n",
              "    }\n",
              "\n",
              "    .dataframe tbody tr th {\n",
              "        vertical-align: top;\n",
              "    }\n",
              "\n",
              "    .dataframe thead th {\n",
              "        text-align: right;\n",
              "    }\n",
              "</style>\n",
              "<table border=\"1\" class=\"dataframe\">\n",
              "  <thead>\n",
              "    <tr style=\"text-align: right;\">\n",
              "      <th></th>\n",
              "      <th>amount</th>\n",
              "      <th>oldbalanceOrg</th>\n",
              "      <th>newbalanceOrig</th>\n",
              "      <th>oldbalanceDest</th>\n",
              "      <th>newbalanceDest</th>\n",
              "      <th>day</th>\n",
              "      <th>hour</th>\n",
              "      <th>nameOrig_encode</th>\n",
              "      <th>nameDest_encode</th>\n",
              "      <th>type__CASH_IN</th>\n",
              "      <th>type__CASH_OUT</th>\n",
              "      <th>type__DEBIT</th>\n",
              "      <th>type__PAYMENT</th>\n",
              "      <th>type__TRANSFER</th>\n",
              "    </tr>\n",
              "  </thead>\n",
              "  <tbody>\n",
              "    <tr>\n",
              "      <th>1135722</th>\n",
              "      <td>246135.47000</td>\n",
              "      <td>15225.00000</td>\n",
              "      <td>0.00000</td>\n",
              "      <td>42751.95000</td>\n",
              "      <td>288887.41000</td>\n",
              "      <td>6</td>\n",
              "      <td>11</td>\n",
              "      <td>5835453</td>\n",
              "      <td>292876</td>\n",
              "      <td>0</td>\n",
              "      <td>1</td>\n",
              "      <td>0</td>\n",
              "      <td>0</td>\n",
              "      <td>0</td>\n",
              "    </tr>\n",
              "    <tr>\n",
              "      <th>1437333</th>\n",
              "      <td>99142.78000</td>\n",
              "      <td>0.00000</td>\n",
              "      <td>0.00000</td>\n",
              "      <td>254665.08000</td>\n",
              "      <td>353807.87000</td>\n",
              "      <td>6</td>\n",
              "      <td>20</td>\n",
              "      <td>778787</td>\n",
              "      <td>383260</td>\n",
              "      <td>0</td>\n",
              "      <td>1</td>\n",
              "      <td>0</td>\n",
              "      <td>0</td>\n",
              "      <td>0</td>\n",
              "    </tr>\n",
              "    <tr>\n",
              "      <th>2257519</th>\n",
              "      <td>5511.97000</td>\n",
              "      <td>166301.00000</td>\n",
              "      <td>171812.97000</td>\n",
              "      <td>104883.65000</td>\n",
              "      <td>99371.67000</td>\n",
              "      <td>8</td>\n",
              "      <td>19</td>\n",
              "      <td>947217</td>\n",
              "      <td>306845</td>\n",
              "      <td>1</td>\n",
              "      <td>0</td>\n",
              "      <td>0</td>\n",
              "      <td>0</td>\n",
              "      <td>0</td>\n",
              "    </tr>\n",
              "    <tr>\n",
              "      <th>5806166</th>\n",
              "      <td>506531.11000</td>\n",
              "      <td>107664.00000</td>\n",
              "      <td>614195.11000</td>\n",
              "      <td>4505008.95000</td>\n",
              "      <td>3998477.85000</td>\n",
              "      <td>17</td>\n",
              "      <td>17</td>\n",
              "      <td>2902635</td>\n",
              "      <td>215982</td>\n",
              "      <td>1</td>\n",
              "      <td>0</td>\n",
              "      <td>0</td>\n",
              "      <td>0</td>\n",
              "      <td>0</td>\n",
              "    </tr>\n",
              "    <tr>\n",
              "      <th>5455877</th>\n",
              "      <td>83717.62000</td>\n",
              "      <td>78209.00000</td>\n",
              "      <td>0.00000</td>\n",
              "      <td>0.00000</td>\n",
              "      <td>83717.62000</td>\n",
              "      <td>16</td>\n",
              "      <td>19</td>\n",
              "      <td>5203954</td>\n",
              "      <td>80400</td>\n",
              "      <td>0</td>\n",
              "      <td>1</td>\n",
              "      <td>0</td>\n",
              "      <td>0</td>\n",
              "      <td>0</td>\n",
              "    </tr>\n",
              "    <tr>\n",
              "      <th>...</th>\n",
              "      <td>...</td>\n",
              "      <td>...</td>\n",
              "      <td>...</td>\n",
              "      <td>...</td>\n",
              "      <td>...</td>\n",
              "      <td>...</td>\n",
              "      <td>...</td>\n",
              "      <td>...</td>\n",
              "      <td>...</td>\n",
              "      <td>...</td>\n",
              "      <td>...</td>\n",
              "      <td>...</td>\n",
              "      <td>...</td>\n",
              "      <td>...</td>\n",
              "    </tr>\n",
              "    <tr>\n",
              "      <th>1422253</th>\n",
              "      <td>175520.68000</td>\n",
              "      <td>977.00000</td>\n",
              "      <td>0.00000</td>\n",
              "      <td>91159.52000</td>\n",
              "      <td>266680.20000</td>\n",
              "      <td>6</td>\n",
              "      <td>19</td>\n",
              "      <td>1166733</td>\n",
              "      <td>298990</td>\n",
              "      <td>0</td>\n",
              "      <td>0</td>\n",
              "      <td>0</td>\n",
              "      <td>0</td>\n",
              "      <td>1</td>\n",
              "    </tr>\n",
              "    <tr>\n",
              "      <th>5834821</th>\n",
              "      <td>347110.99000</td>\n",
              "      <td>103785.00000</td>\n",
              "      <td>0.00000</td>\n",
              "      <td>87871.75000</td>\n",
              "      <td>434982.74000</td>\n",
              "      <td>17</td>\n",
              "      <td>18</td>\n",
              "      <td>5657454</td>\n",
              "      <td>228205</td>\n",
              "      <td>0</td>\n",
              "      <td>1</td>\n",
              "      <td>0</td>\n",
              "      <td>0</td>\n",
              "      <td>0</td>\n",
              "    </tr>\n",
              "    <tr>\n",
              "      <th>4182953</th>\n",
              "      <td>13259.63000</td>\n",
              "      <td>0.00000</td>\n",
              "      <td>0.00000</td>\n",
              "      <td>0.00000</td>\n",
              "      <td>0.00000</td>\n",
              "      <td>13</td>\n",
              "      <td>16</td>\n",
              "      <td>4857521</td>\n",
              "      <td>1891786</td>\n",
              "      <td>0</td>\n",
              "      <td>0</td>\n",
              "      <td>0</td>\n",
              "      <td>1</td>\n",
              "      <td>0</td>\n",
              "    </tr>\n",
              "    <tr>\n",
              "      <th>3985280</th>\n",
              "      <td>24122.92000</td>\n",
              "      <td>0.00000</td>\n",
              "      <td>0.00000</td>\n",
              "      <td>0.00000</td>\n",
              "      <td>0.00000</td>\n",
              "      <td>13</td>\n",
              "      <td>10</td>\n",
              "      <td>2732082</td>\n",
              "      <td>997852</td>\n",
              "      <td>0</td>\n",
              "      <td>0</td>\n",
              "      <td>0</td>\n",
              "      <td>1</td>\n",
              "      <td>0</td>\n",
              "    </tr>\n",
              "    <tr>\n",
              "      <th>1541412</th>\n",
              "      <td>6865.63000</td>\n",
              "      <td>0.00000</td>\n",
              "      <td>0.00000</td>\n",
              "      <td>0.00000</td>\n",
              "      <td>0.00000</td>\n",
              "      <td>7</td>\n",
              "      <td>10</td>\n",
              "      <td>45702</td>\n",
              "      <td>1375282</td>\n",
              "      <td>0</td>\n",
              "      <td>0</td>\n",
              "      <td>0</td>\n",
              "      <td>1</td>\n",
              "      <td>0</td>\n",
              "    </tr>\n",
              "  </tbody>\n",
              "</table>\n",
              "<p>4262955 rows × 14 columns</p>\n",
              "</div>\n",
              "      <button class=\"colab-df-convert\" onclick=\"convertToInteractive('df-7d5e9bdf-2bc6-4496-81ce-d964b4bd88c5')\"\n",
              "              title=\"Convert this dataframe to an interactive table.\"\n",
              "              style=\"display:none;\">\n",
              "        \n",
              "  <svg xmlns=\"http://www.w3.org/2000/svg\" height=\"24px\"viewBox=\"0 0 24 24\"\n",
              "       width=\"24px\">\n",
              "    <path d=\"M0 0h24v24H0V0z\" fill=\"none\"/>\n",
              "    <path d=\"M18.56 5.44l.94 2.06.94-2.06 2.06-.94-2.06-.94-.94-2.06-.94 2.06-2.06.94zm-11 1L8.5 8.5l.94-2.06 2.06-.94-2.06-.94L8.5 2.5l-.94 2.06-2.06.94zm10 10l.94 2.06.94-2.06 2.06-.94-2.06-.94-.94-2.06-.94 2.06-2.06.94z\"/><path d=\"M17.41 7.96l-1.37-1.37c-.4-.4-.92-.59-1.43-.59-.52 0-1.04.2-1.43.59L10.3 9.45l-7.72 7.72c-.78.78-.78 2.05 0 2.83L4 21.41c.39.39.9.59 1.41.59.51 0 1.02-.2 1.41-.59l7.78-7.78 2.81-2.81c.8-.78.8-2.07 0-2.86zM5.41 20L4 18.59l7.72-7.72 1.47 1.35L5.41 20z\"/>\n",
              "  </svg>\n",
              "      </button>\n",
              "      \n",
              "  <style>\n",
              "    .colab-df-container {\n",
              "      display:flex;\n",
              "      flex-wrap:wrap;\n",
              "      gap: 12px;\n",
              "    }\n",
              "\n",
              "    .colab-df-convert {\n",
              "      background-color: #E8F0FE;\n",
              "      border: none;\n",
              "      border-radius: 50%;\n",
              "      cursor: pointer;\n",
              "      display: none;\n",
              "      fill: #1967D2;\n",
              "      height: 32px;\n",
              "      padding: 0 0 0 0;\n",
              "      width: 32px;\n",
              "    }\n",
              "\n",
              "    .colab-df-convert:hover {\n",
              "      background-color: #E2EBFA;\n",
              "      box-shadow: 0px 1px 2px rgba(60, 64, 67, 0.3), 0px 1px 3px 1px rgba(60, 64, 67, 0.15);\n",
              "      fill: #174EA6;\n",
              "    }\n",
              "\n",
              "    [theme=dark] .colab-df-convert {\n",
              "      background-color: #3B4455;\n",
              "      fill: #D2E3FC;\n",
              "    }\n",
              "\n",
              "    [theme=dark] .colab-df-convert:hover {\n",
              "      background-color: #434B5C;\n",
              "      box-shadow: 0px 1px 3px 1px rgba(0, 0, 0, 0.15);\n",
              "      filter: drop-shadow(0px 1px 2px rgba(0, 0, 0, 0.3));\n",
              "      fill: #FFFFFF;\n",
              "    }\n",
              "  </style>\n",
              "\n",
              "      <script>\n",
              "        const buttonEl =\n",
              "          document.querySelector('#df-7d5e9bdf-2bc6-4496-81ce-d964b4bd88c5 button.colab-df-convert');\n",
              "        buttonEl.style.display =\n",
              "          google.colab.kernel.accessAllowed ? 'block' : 'none';\n",
              "\n",
              "        async function convertToInteractive(key) {\n",
              "          const element = document.querySelector('#df-7d5e9bdf-2bc6-4496-81ce-d964b4bd88c5');\n",
              "          const dataTable =\n",
              "            await google.colab.kernel.invokeFunction('convertToInteractive',\n",
              "                                                     [key], {});\n",
              "          if (!dataTable) return;\n",
              "\n",
              "          const docLinkHtml = 'Like what you see? Visit the ' +\n",
              "            '<a target=\"_blank\" href=https://colab.research.google.com/notebooks/data_table.ipynb>data table notebook</a>'\n",
              "            + ' to learn more about interactive tables.';\n",
              "          element.innerHTML = '';\n",
              "          dataTable['output_type'] = 'display_data';\n",
              "          await google.colab.output.renderOutput(dataTable, element);\n",
              "          const docLink = document.createElement('div');\n",
              "          docLink.innerHTML = docLinkHtml;\n",
              "          element.appendChild(docLink);\n",
              "        }\n",
              "      </script>\n",
              "    </div>\n",
              "  </div>\n",
              "  "
            ]
          },
          "metadata": {},
          "execution_count": 40
        }
      ]
    },
    {
      "cell_type": "markdown",
      "source": [
        "Além do valor da transação, iremos também criar uma categorização, dividindo as transações entre valores extremamente baixos, baixos, moderados, altos e extremamente altos, utilizando os quartils e interquartil do dado de treino para a categorização."
      ],
      "metadata": {
        "id": "A2tAlNTTkN1T"
      }
    },
    {
      "cell_type": "code",
      "source": [
        "Q1 = X_train['amount'].quantile(0.25)\n",
        "Q2 = X_train['amount'].quantile(0.5) \n",
        "Q3 = X_train['amount'].quantile(0.75) \n",
        "Qmax = Q3 + (Q3-Q1)*1.5"
      ],
      "metadata": {
        "id": "Wt4iQSKMkC_J"
      },
      "execution_count": 41,
      "outputs": []
    },
    {
      "cell_type": "code",
      "source": [
        "def amount_category(x):\n",
        "    if x >= Qmax:\n",
        "        return('EXTREMLY HIGH')\n",
        "    elif x < Qmax and x >= Q3:\n",
        "        return('HIGH')\n",
        "    elif x < Q3 and x >= Q2:\n",
        "        return('MODERATE')\n",
        "    elif x < Q2 and x >= Q1:\n",
        "        return('LOW')\n",
        "    elif x < Q1:\n",
        "        return('EXTREMLY LOW')\n",
        "X_train['amount_category'] = X_train['amount'].apply(amount_category)  \n",
        "X_test['amount_category'] = X_test['amount'].apply(amount_category)"
      ],
      "metadata": {
        "id": "IEOEGFmukjQL"
      },
      "execution_count": 42,
      "outputs": []
    },
    {
      "cell_type": "code",
      "source": [
        "X_train"
      ],
      "metadata": {
        "colab": {
          "base_uri": "https://localhost:8080/",
          "height": 488
        },
        "id": "aCSf84VIlBRh",
        "outputId": "5fdb60db-1e68-40a9-8183-91a3af9412ae"
      },
      "execution_count": 43,
      "outputs": [
        {
          "output_type": "execute_result",
          "data": {
            "text/plain": [
              "              amount  oldbalanceOrg  newbalanceOrig  oldbalanceDest  \\\n",
              "1135722 246135.47000    15225.00000         0.00000     42751.95000   \n",
              "1437333  99142.78000        0.00000         0.00000    254665.08000   \n",
              "2257519   5511.97000   166301.00000    171812.97000    104883.65000   \n",
              "5806166 506531.11000   107664.00000    614195.11000   4505008.95000   \n",
              "5455877  83717.62000    78209.00000         0.00000         0.00000   \n",
              "...              ...            ...             ...             ...   \n",
              "1422253 175520.68000      977.00000         0.00000     91159.52000   \n",
              "5834821 347110.99000   103785.00000         0.00000     87871.75000   \n",
              "4182953  13259.63000        0.00000         0.00000         0.00000   \n",
              "3985280  24122.92000        0.00000         0.00000         0.00000   \n",
              "1541412   6865.63000        0.00000         0.00000         0.00000   \n",
              "\n",
              "         newbalanceDest  day  hour  nameOrig_encode  nameDest_encode  \\\n",
              "1135722    288887.41000    6    11          5835453           292876   \n",
              "1437333    353807.87000    6    20           778787           383260   \n",
              "2257519     99371.67000    8    19           947217           306845   \n",
              "5806166   3998477.85000   17    17          2902635           215982   \n",
              "5455877     83717.62000   16    19          5203954            80400   \n",
              "...                 ...  ...   ...              ...              ...   \n",
              "1422253    266680.20000    6    19          1166733           298990   \n",
              "5834821    434982.74000   17    18          5657454           228205   \n",
              "4182953         0.00000   13    16          4857521          1891786   \n",
              "3985280         0.00000   13    10          2732082           997852   \n",
              "1541412         0.00000    7    10            45702          1375282   \n",
              "\n",
              "         type__CASH_IN  type__CASH_OUT  type__DEBIT  type__PAYMENT  \\\n",
              "1135722              0               1            0              0   \n",
              "1437333              0               1            0              0   \n",
              "2257519              1               0            0              0   \n",
              "5806166              1               0            0              0   \n",
              "5455877              0               1            0              0   \n",
              "...                ...             ...          ...            ...   \n",
              "1422253              0               0            0              0   \n",
              "5834821              0               1            0              0   \n",
              "4182953              0               0            0              1   \n",
              "3985280              0               0            0              1   \n",
              "1541412              0               0            0              1   \n",
              "\n",
              "         type__TRANSFER amount_category  \n",
              "1135722               0            HIGH  \n",
              "1437333               0        MODERATE  \n",
              "2257519               0    EXTREMLY LOW  \n",
              "5806166               0   EXTREMLY HIGH  \n",
              "5455877               0        MODERATE  \n",
              "...                 ...             ...  \n",
              "1422253               1        MODERATE  \n",
              "5834821               0            HIGH  \n",
              "4182953               0    EXTREMLY LOW  \n",
              "3985280               0             LOW  \n",
              "1541412               0    EXTREMLY LOW  \n",
              "\n",
              "[4262955 rows x 15 columns]"
            ],
            "text/html": [
              "\n",
              "  <div id=\"df-09804f70-7f84-473a-8860-08d349d66979\">\n",
              "    <div class=\"colab-df-container\">\n",
              "      <div>\n",
              "<style scoped>\n",
              "    .dataframe tbody tr th:only-of-type {\n",
              "        vertical-align: middle;\n",
              "    }\n",
              "\n",
              "    .dataframe tbody tr th {\n",
              "        vertical-align: top;\n",
              "    }\n",
              "\n",
              "    .dataframe thead th {\n",
              "        text-align: right;\n",
              "    }\n",
              "</style>\n",
              "<table border=\"1\" class=\"dataframe\">\n",
              "  <thead>\n",
              "    <tr style=\"text-align: right;\">\n",
              "      <th></th>\n",
              "      <th>amount</th>\n",
              "      <th>oldbalanceOrg</th>\n",
              "      <th>newbalanceOrig</th>\n",
              "      <th>oldbalanceDest</th>\n",
              "      <th>newbalanceDest</th>\n",
              "      <th>day</th>\n",
              "      <th>hour</th>\n",
              "      <th>nameOrig_encode</th>\n",
              "      <th>nameDest_encode</th>\n",
              "      <th>type__CASH_IN</th>\n",
              "      <th>type__CASH_OUT</th>\n",
              "      <th>type__DEBIT</th>\n",
              "      <th>type__PAYMENT</th>\n",
              "      <th>type__TRANSFER</th>\n",
              "      <th>amount_category</th>\n",
              "    </tr>\n",
              "  </thead>\n",
              "  <tbody>\n",
              "    <tr>\n",
              "      <th>1135722</th>\n",
              "      <td>246135.47000</td>\n",
              "      <td>15225.00000</td>\n",
              "      <td>0.00000</td>\n",
              "      <td>42751.95000</td>\n",
              "      <td>288887.41000</td>\n",
              "      <td>6</td>\n",
              "      <td>11</td>\n",
              "      <td>5835453</td>\n",
              "      <td>292876</td>\n",
              "      <td>0</td>\n",
              "      <td>1</td>\n",
              "      <td>0</td>\n",
              "      <td>0</td>\n",
              "      <td>0</td>\n",
              "      <td>HIGH</td>\n",
              "    </tr>\n",
              "    <tr>\n",
              "      <th>1437333</th>\n",
              "      <td>99142.78000</td>\n",
              "      <td>0.00000</td>\n",
              "      <td>0.00000</td>\n",
              "      <td>254665.08000</td>\n",
              "      <td>353807.87000</td>\n",
              "      <td>6</td>\n",
              "      <td>20</td>\n",
              "      <td>778787</td>\n",
              "      <td>383260</td>\n",
              "      <td>0</td>\n",
              "      <td>1</td>\n",
              "      <td>0</td>\n",
              "      <td>0</td>\n",
              "      <td>0</td>\n",
              "      <td>MODERATE</td>\n",
              "    </tr>\n",
              "    <tr>\n",
              "      <th>2257519</th>\n",
              "      <td>5511.97000</td>\n",
              "      <td>166301.00000</td>\n",
              "      <td>171812.97000</td>\n",
              "      <td>104883.65000</td>\n",
              "      <td>99371.67000</td>\n",
              "      <td>8</td>\n",
              "      <td>19</td>\n",
              "      <td>947217</td>\n",
              "      <td>306845</td>\n",
              "      <td>1</td>\n",
              "      <td>0</td>\n",
              "      <td>0</td>\n",
              "      <td>0</td>\n",
              "      <td>0</td>\n",
              "      <td>EXTREMLY LOW</td>\n",
              "    </tr>\n",
              "    <tr>\n",
              "      <th>5806166</th>\n",
              "      <td>506531.11000</td>\n",
              "      <td>107664.00000</td>\n",
              "      <td>614195.11000</td>\n",
              "      <td>4505008.95000</td>\n",
              "      <td>3998477.85000</td>\n",
              "      <td>17</td>\n",
              "      <td>17</td>\n",
              "      <td>2902635</td>\n",
              "      <td>215982</td>\n",
              "      <td>1</td>\n",
              "      <td>0</td>\n",
              "      <td>0</td>\n",
              "      <td>0</td>\n",
              "      <td>0</td>\n",
              "      <td>EXTREMLY HIGH</td>\n",
              "    </tr>\n",
              "    <tr>\n",
              "      <th>5455877</th>\n",
              "      <td>83717.62000</td>\n",
              "      <td>78209.00000</td>\n",
              "      <td>0.00000</td>\n",
              "      <td>0.00000</td>\n",
              "      <td>83717.62000</td>\n",
              "      <td>16</td>\n",
              "      <td>19</td>\n",
              "      <td>5203954</td>\n",
              "      <td>80400</td>\n",
              "      <td>0</td>\n",
              "      <td>1</td>\n",
              "      <td>0</td>\n",
              "      <td>0</td>\n",
              "      <td>0</td>\n",
              "      <td>MODERATE</td>\n",
              "    </tr>\n",
              "    <tr>\n",
              "      <th>...</th>\n",
              "      <td>...</td>\n",
              "      <td>...</td>\n",
              "      <td>...</td>\n",
              "      <td>...</td>\n",
              "      <td>...</td>\n",
              "      <td>...</td>\n",
              "      <td>...</td>\n",
              "      <td>...</td>\n",
              "      <td>...</td>\n",
              "      <td>...</td>\n",
              "      <td>...</td>\n",
              "      <td>...</td>\n",
              "      <td>...</td>\n",
              "      <td>...</td>\n",
              "      <td>...</td>\n",
              "    </tr>\n",
              "    <tr>\n",
              "      <th>1422253</th>\n",
              "      <td>175520.68000</td>\n",
              "      <td>977.00000</td>\n",
              "      <td>0.00000</td>\n",
              "      <td>91159.52000</td>\n",
              "      <td>266680.20000</td>\n",
              "      <td>6</td>\n",
              "      <td>19</td>\n",
              "      <td>1166733</td>\n",
              "      <td>298990</td>\n",
              "      <td>0</td>\n",
              "      <td>0</td>\n",
              "      <td>0</td>\n",
              "      <td>0</td>\n",
              "      <td>1</td>\n",
              "      <td>MODERATE</td>\n",
              "    </tr>\n",
              "    <tr>\n",
              "      <th>5834821</th>\n",
              "      <td>347110.99000</td>\n",
              "      <td>103785.00000</td>\n",
              "      <td>0.00000</td>\n",
              "      <td>87871.75000</td>\n",
              "      <td>434982.74000</td>\n",
              "      <td>17</td>\n",
              "      <td>18</td>\n",
              "      <td>5657454</td>\n",
              "      <td>228205</td>\n",
              "      <td>0</td>\n",
              "      <td>1</td>\n",
              "      <td>0</td>\n",
              "      <td>0</td>\n",
              "      <td>0</td>\n",
              "      <td>HIGH</td>\n",
              "    </tr>\n",
              "    <tr>\n",
              "      <th>4182953</th>\n",
              "      <td>13259.63000</td>\n",
              "      <td>0.00000</td>\n",
              "      <td>0.00000</td>\n",
              "      <td>0.00000</td>\n",
              "      <td>0.00000</td>\n",
              "      <td>13</td>\n",
              "      <td>16</td>\n",
              "      <td>4857521</td>\n",
              "      <td>1891786</td>\n",
              "      <td>0</td>\n",
              "      <td>0</td>\n",
              "      <td>0</td>\n",
              "      <td>1</td>\n",
              "      <td>0</td>\n",
              "      <td>EXTREMLY LOW</td>\n",
              "    </tr>\n",
              "    <tr>\n",
              "      <th>3985280</th>\n",
              "      <td>24122.92000</td>\n",
              "      <td>0.00000</td>\n",
              "      <td>0.00000</td>\n",
              "      <td>0.00000</td>\n",
              "      <td>0.00000</td>\n",
              "      <td>13</td>\n",
              "      <td>10</td>\n",
              "      <td>2732082</td>\n",
              "      <td>997852</td>\n",
              "      <td>0</td>\n",
              "      <td>0</td>\n",
              "      <td>0</td>\n",
              "      <td>1</td>\n",
              "      <td>0</td>\n",
              "      <td>LOW</td>\n",
              "    </tr>\n",
              "    <tr>\n",
              "      <th>1541412</th>\n",
              "      <td>6865.63000</td>\n",
              "      <td>0.00000</td>\n",
              "      <td>0.00000</td>\n",
              "      <td>0.00000</td>\n",
              "      <td>0.00000</td>\n",
              "      <td>7</td>\n",
              "      <td>10</td>\n",
              "      <td>45702</td>\n",
              "      <td>1375282</td>\n",
              "      <td>0</td>\n",
              "      <td>0</td>\n",
              "      <td>0</td>\n",
              "      <td>1</td>\n",
              "      <td>0</td>\n",
              "      <td>EXTREMLY LOW</td>\n",
              "    </tr>\n",
              "  </tbody>\n",
              "</table>\n",
              "<p>4262955 rows × 15 columns</p>\n",
              "</div>\n",
              "      <button class=\"colab-df-convert\" onclick=\"convertToInteractive('df-09804f70-7f84-473a-8860-08d349d66979')\"\n",
              "              title=\"Convert this dataframe to an interactive table.\"\n",
              "              style=\"display:none;\">\n",
              "        \n",
              "  <svg xmlns=\"http://www.w3.org/2000/svg\" height=\"24px\"viewBox=\"0 0 24 24\"\n",
              "       width=\"24px\">\n",
              "    <path d=\"M0 0h24v24H0V0z\" fill=\"none\"/>\n",
              "    <path d=\"M18.56 5.44l.94 2.06.94-2.06 2.06-.94-2.06-.94-.94-2.06-.94 2.06-2.06.94zm-11 1L8.5 8.5l.94-2.06 2.06-.94-2.06-.94L8.5 2.5l-.94 2.06-2.06.94zm10 10l.94 2.06.94-2.06 2.06-.94-2.06-.94-.94-2.06-.94 2.06-2.06.94z\"/><path d=\"M17.41 7.96l-1.37-1.37c-.4-.4-.92-.59-1.43-.59-.52 0-1.04.2-1.43.59L10.3 9.45l-7.72 7.72c-.78.78-.78 2.05 0 2.83L4 21.41c.39.39.9.59 1.41.59.51 0 1.02-.2 1.41-.59l7.78-7.78 2.81-2.81c.8-.78.8-2.07 0-2.86zM5.41 20L4 18.59l7.72-7.72 1.47 1.35L5.41 20z\"/>\n",
              "  </svg>\n",
              "      </button>\n",
              "      \n",
              "  <style>\n",
              "    .colab-df-container {\n",
              "      display:flex;\n",
              "      flex-wrap:wrap;\n",
              "      gap: 12px;\n",
              "    }\n",
              "\n",
              "    .colab-df-convert {\n",
              "      background-color: #E8F0FE;\n",
              "      border: none;\n",
              "      border-radius: 50%;\n",
              "      cursor: pointer;\n",
              "      display: none;\n",
              "      fill: #1967D2;\n",
              "      height: 32px;\n",
              "      padding: 0 0 0 0;\n",
              "      width: 32px;\n",
              "    }\n",
              "\n",
              "    .colab-df-convert:hover {\n",
              "      background-color: #E2EBFA;\n",
              "      box-shadow: 0px 1px 2px rgba(60, 64, 67, 0.3), 0px 1px 3px 1px rgba(60, 64, 67, 0.15);\n",
              "      fill: #174EA6;\n",
              "    }\n",
              "\n",
              "    [theme=dark] .colab-df-convert {\n",
              "      background-color: #3B4455;\n",
              "      fill: #D2E3FC;\n",
              "    }\n",
              "\n",
              "    [theme=dark] .colab-df-convert:hover {\n",
              "      background-color: #434B5C;\n",
              "      box-shadow: 0px 1px 3px 1px rgba(0, 0, 0, 0.15);\n",
              "      filter: drop-shadow(0px 1px 2px rgba(0, 0, 0, 0.3));\n",
              "      fill: #FFFFFF;\n",
              "    }\n",
              "  </style>\n",
              "\n",
              "      <script>\n",
              "        const buttonEl =\n",
              "          document.querySelector('#df-09804f70-7f84-473a-8860-08d349d66979 button.colab-df-convert');\n",
              "        buttonEl.style.display =\n",
              "          google.colab.kernel.accessAllowed ? 'block' : 'none';\n",
              "\n",
              "        async function convertToInteractive(key) {\n",
              "          const element = document.querySelector('#df-09804f70-7f84-473a-8860-08d349d66979');\n",
              "          const dataTable =\n",
              "            await google.colab.kernel.invokeFunction('convertToInteractive',\n",
              "                                                     [key], {});\n",
              "          if (!dataTable) return;\n",
              "\n",
              "          const docLinkHtml = 'Like what you see? Visit the ' +\n",
              "            '<a target=\"_blank\" href=https://colab.research.google.com/notebooks/data_table.ipynb>data table notebook</a>'\n",
              "            + ' to learn more about interactive tables.';\n",
              "          element.innerHTML = '';\n",
              "          dataTable['output_type'] = 'display_data';\n",
              "          await google.colab.output.renderOutput(dataTable, element);\n",
              "          const docLink = document.createElement('div');\n",
              "          docLink.innerHTML = docLinkHtml;\n",
              "          element.appendChild(docLink);\n",
              "        }\n",
              "      </script>\n",
              "    </div>\n",
              "  </div>\n",
              "  "
            ]
          },
          "metadata": {},
          "execution_count": 43
        }
      ]
    },
    {
      "cell_type": "code",
      "source": [
        "fig, axes = plt.subplots(1,2,figsize=(20,5)) \n",
        "\n",
        "sns.countplot(data = X_train, ax=axes[0], x = 'amount_category', \n",
        "              order = ['EXTREMLY LOW', 'LOW', 'MODERATE', 'HIGH', 'EXTREMLY HIGH'])\n",
        "axes[0].set_title('amount_category')\n",
        "\n",
        "sns.countplot(data = X_train[y_train==1], ax=axes[1], x='amount_category', \n",
        "              order = ['EXTREMLY LOW', 'LOW', 'MODERATE', 'HIGH', 'EXTREMLY HIGH'])\n",
        "axes[1].set_title('Fraud amount_category')\n",
        "\n",
        "plt.tight_layout()\n",
        "plt.show()   "
      ],
      "metadata": {
        "colab": {
          "base_uri": "https://localhost:8080/",
          "height": 302
        },
        "id": "RZ1UIolilOtO",
        "outputId": "b801a7b7-b5af-437a-dff2-f8fcd29ccee4"
      },
      "execution_count": 44,
      "outputs": [
        {
          "output_type": "display_data",
          "data": {
            "text/plain": [
              "<Figure size 1440x360 with 2 Axes>"
            ],
            "image/png": "[encoded data removed]"
          },
          "metadata": {}
        }
      ]
    },
    {
      "cell_type": "markdown",
      "source": [
        "Podemos observar que claramente existe uma relação inversa entre os dados gerais e os dados fraudulentos, em que as fraudulentas se concentram ao redor nos valores extremamente altos."
      ],
      "metadata": {
        "id": "XbZbDUbXln2K"
      }
    },
    {
      "cell_type": "markdown",
      "source": [
        "Iremos realizar um ordinal encoding nesta variável, assim como normalizar as variáveis de saldo e de valor da transação."
      ],
      "metadata": {
        "id": "P6G49ROZlq_q"
      }
    },
    {
      "cell_type": "code",
      "source": [
        "X_train['amount_category'] = X_train['amount_category'].replace({'EXTREMLY LOW':1, \n",
        "                                                                       'LOW':2, \n",
        "                                                                       'MODERATE':3, \n",
        "                                                                       'HIGH':4, \n",
        "                                                                       'EXTREMLY HIGH':5})\n",
        "X_test['amount_category'] = X_test['amount_category'].replace({'EXTREMLY LOW':1, \n",
        "                                                                       'LOW':2, \n",
        "                                                                       'MODERATE':3, \n",
        "                                                                       'HIGH':4, \n",
        "                                                                       'EXTREMLY HIGH':5})"
      ],
      "metadata": {
        "id": "GKV_GvnIlzuC"
      },
      "execution_count": 45,
      "outputs": []
    },
    {
      "cell_type": "code",
      "source": [
        "normalizer = Normalizer()"
      ],
      "metadata": {
        "id": "mMlTeYopl8Zi"
      },
      "execution_count": 46,
      "outputs": []
    },
    {
      "cell_type": "code",
      "source": [
        "X_train[['amount', \n",
        "              'oldbalanceOrg', \n",
        "              'newbalanceOrig', \n",
        "              'oldbalanceDest', \n",
        "              'newbalanceDest']] = normalizer.fit_transform(X_train[['amount', \n",
        "                                                                          'oldbalanceOrg', \n",
        "                                                                          'newbalanceOrig', \n",
        "                                                                          'oldbalanceDest', \n",
        "                                                                          'newbalanceDest']])\n",
        "X_test[['amount', \n",
        "              'oldbalanceOrg', \n",
        "              'newbalanceOrig', \n",
        "              'oldbalanceDest', \n",
        "              'newbalanceDest']] = normalizer.transform(X_test[['amount', \n",
        "                                                                'oldbalanceOrg', \n",
        "                                                                'newbalanceOrig', \n",
        "                                                                'oldbalanceDest', \n",
        "                                                                'newbalanceDest']])"
      ],
      "metadata": {
        "id": "BM8bf6J1mAVr"
      },
      "execution_count": 47,
      "outputs": []
    },
    {
      "cell_type": "code",
      "source": [
        "X_train"
      ],
      "metadata": {
        "colab": {
          "base_uri": "https://localhost:8080/",
          "height": 488
        },
        "id": "_H1DShZPmL2P",
        "outputId": "82cf72c3-e66c-4776-9caa-3b279b9f248a"
      },
      "execution_count": 48,
      "outputs": [
        {
          "output_type": "execute_result",
          "data": {
            "text/plain": [
              "         amount  oldbalanceOrg  newbalanceOrig  oldbalanceDest  \\\n",
              "1135722 0.64395        0.03983         0.00000         0.11185   \n",
              "1437333 0.22177        0.00000         0.00000         0.56964   \n",
              "2257519 0.01973        0.59514         0.61487         0.37535   \n",
              "5806166 0.08335        0.01772         0.10107         0.74134   \n",
              "5455877 0.59000        0.55118         0.00000         0.00000   \n",
              "...         ...            ...             ...             ...   \n",
              "1422253 0.52865        0.00294         0.00000         0.27456   \n",
              "5834821 0.60591        0.18116         0.00000         0.15339   \n",
              "4182953 1.00000        0.00000         0.00000         0.00000   \n",
              "3985280 1.00000        0.00000         0.00000         0.00000   \n",
              "1541412 1.00000        0.00000         0.00000         0.00000   \n",
              "\n",
              "         newbalanceDest  day  hour  nameOrig_encode  nameDest_encode  \\\n",
              "1135722         0.75580    6    11          5835453           292876   \n",
              "1437333         0.79141    6    20           778787           383260   \n",
              "2257519         0.35562    8    19           947217           306845   \n",
              "5806166         0.65798   17    17          2902635           215982   \n",
              "5455877         0.59000   16    19          5203954            80400   \n",
              "...                 ...  ...   ...              ...              ...   \n",
              "1422253         0.80321    6    19          1166733           298990   \n",
              "5834821         0.75929   17    18          5657454           228205   \n",
              "4182953         0.00000   13    16          4857521          1891786   \n",
              "3985280         0.00000   13    10          2732082           997852   \n",
              "1541412         0.00000    7    10            45702          1375282   \n",
              "\n",
              "         type__CASH_IN  type__CASH_OUT  type__DEBIT  type__PAYMENT  \\\n",
              "1135722              0               1            0              0   \n",
              "1437333              0               1            0              0   \n",
              "2257519              1               0            0              0   \n",
              "5806166              1               0            0              0   \n",
              "5455877              0               1            0              0   \n",
              "...                ...             ...          ...            ...   \n",
              "1422253              0               0            0              0   \n",
              "5834821              0               1            0              0   \n",
              "4182953              0               0            0              1   \n",
              "3985280              0               0            0              1   \n",
              "1541412              0               0            0              1   \n",
              "\n",
              "         type__TRANSFER  amount_category  \n",
              "1135722               0                4  \n",
              "1437333               0                3  \n",
              "2257519               0                1  \n",
              "5806166               0                5  \n",
              "5455877               0                3  \n",
              "...                 ...              ...  \n",
              "1422253               1                3  \n",
              "5834821               0                4  \n",
              "4182953               0                1  \n",
              "3985280               0                2  \n",
              "1541412               0                1  \n",
              "\n",
              "[4262955 rows x 15 columns]"
            ],
            "text/html": [
              "\n",
              "  <div id=\"df-855c8ace-78c8-4b4e-9bd1-c07d21995eaa\">\n",
              "    <div class=\"colab-df-container\">\n",
              "      <div>\n",
              "<style scoped>\n",
              "    .dataframe tbody tr th:only-of-type {\n",
              "        vertical-align: middle;\n",
              "    }\n",
              "\n",
              "    .dataframe tbody tr th {\n",
              "        vertical-align: top;\n",
              "    }\n",
              "\n",
              "    .dataframe thead th {\n",
              "        text-align: right;\n",
              "    }\n",
              "</style>\n",
              "<table border=\"1\" class=\"dataframe\">\n",
              "  <thead>\n",
              "    <tr style=\"text-align: right;\">\n",
              "      <th></th>\n",
              "      <th>amount</th>\n",
              "      <th>oldbalanceOrg</th>\n",
              "      <th>newbalanceOrig</th>\n",
              "      <th>oldbalanceDest</th>\n",
              "      <th>newbalanceDest</th>\n",
              "      <th>day</th>\n",
              "      <th>hour</th>\n",
              "      <th>nameOrig_encode</th>\n",
              "      <th>nameDest_encode</th>\n",
              "      <th>type__CASH_IN</th>\n",
              "      <th>type__CASH_OUT</th>\n",
              "      <th>type__DEBIT</th>\n",
              "      <th>type__PAYMENT</th>\n",
              "      <th>type__TRANSFER</th>\n",
              "      <th>amount_category</th>\n",
              "    </tr>\n",
              "  </thead>\n",
              "  <tbody>\n",
              "    <tr>\n",
              "      <th>1135722</th>\n",
              "      <td>0.64395</td>\n",
              "      <td>0.03983</td>\n",
              "      <td>0.00000</td>\n",
              "      <td>0.11185</td>\n",
              "      <td>0.75580</td>\n",
              "      <td>6</td>\n",
              "      <td>11</td>\n",
              "      <td>5835453</td>\n",
              "      <td>292876</td>\n",
              "      <td>0</td>\n",
              "      <td>1</td>\n",
              "      <td>0</td>\n",
              "      <td>0</td>\n",
              "      <td>0</td>\n",
              "      <td>4</td>\n",
              "    </tr>\n",
              "    <tr>\n",
              "      <th>1437333</th>\n",
              "      <td>0.22177</td>\n",
              "      <td>0.00000</td>\n",
              "      <td>0.00000</td>\n",
              "      <td>0.56964</td>\n",
              "      <td>0.79141</td>\n",
              "      <td>6</td>\n",
              "      <td>20</td>\n",
              "      <td>778787</td>\n",
              "      <td>383260</td>\n",
              "      <td>0</td>\n",
              "      <td>1</td>\n",
              "      <td>0</td>\n",
              "      <td>0</td>\n",
              "      <td>0</td>\n",
              "      <td>3</td>\n",
              "    </tr>\n",
              "    <tr>\n",
              "      <th>2257519</th>\n",
              "      <td>0.01973</td>\n",
              "      <td>0.59514</td>\n",
              "      <td>0.61487</td>\n",
              "      <td>0.37535</td>\n",
              "      <td>0.35562</td>\n",
              "      <td>8</td>\n",
              "      <td>19</td>\n",
              "      <td>947217</td>\n",
              "      <td>306845</td>\n",
              "      <td>1</td>\n",
              "      <td>0</td>\n",
              "      <td>0</td>\n",
              "      <td>0</td>\n",
              "      <td>0</td>\n",
              "      <td>1</td>\n",
              "    </tr>\n",
              "    <tr>\n",
              "      <th>5806166</th>\n",
              "      <td>0.08335</td>\n",
              "      <td>0.01772</td>\n",
              "      <td>0.10107</td>\n",
              "      <td>0.74134</td>\n",
              "      <td>0.65798</td>\n",
              "      <td>17</td>\n",
              "      <td>17</td>\n",
              "      <td>2902635</td>\n",
              "      <td>215982</td>\n",
              "      <td>1</td>\n",
              "      <td>0</td>\n",
              "      <td>0</td>\n",
              "      <td>0</td>\n",
              "      <td>0</td>\n",
              "      <td>5</td>\n",
              "    </tr>\n",
              "    <tr>\n",
              "      <th>5455877</th>\n",
              "      <td>0.59000</td>\n",
              "      <td>0.55118</td>\n",
              "      <td>0.00000</td>\n",
              "      <td>0.00000</td>\n",
              "      <td>0.59000</td>\n",
              "      <td>16</td>\n",
              "      <td>19</td>\n",
              "      <td>5203954</td>\n",
              "      <td>80400</td>\n",
              "      <td>0</td>\n",
              "      <td>1</td>\n",
              "      <td>0</td>\n",
              "      <td>0</td>\n",
              "      <td>0</td>\n",
              "      <td>3</td>\n",
              "    </tr>\n",
              "    <tr>\n",
              "      <th>...</th>\n",
              "      <td>...</td>\n",
              "      <td>...</td>\n",
              "      <td>...</td>\n",
              "      <td>...</td>\n",
              "      <td>...</td>\n",
              "      <td>...</td>\n",
              "      <td>...</td>\n",
              "      <td>...</td>\n",
              "      <td>...</td>\n",
              "      <td>...</td>\n",
              "      <td>...</td>\n",
              "      <td>...</td>\n",
              "      <td>...</td>\n",
              "      <td>...</td>\n",
              "      <td>...</td>\n",
              "    </tr>\n",
              "    <tr>\n",
              "      <th>1422253</th>\n",
              "      <td>0.52865</td>\n",
              "      <td>0.00294</td>\n",
              "      <td>0.00000</td>\n",
              "      <td>0.27456</td>\n",
              "      <td>0.80321</td>\n",
              "      <td>6</td>\n",
              "      <td>19</td>\n",
              "      <td>1166733</td>\n",
              "      <td>298990</td>\n",
              "      <td>0</td>\n",
              "      <td>0</td>\n",
              "      <td>0</td>\n",
              "      <td>0</td>\n",
              "      <td>1</td>\n",
              "      <td>3</td>\n",
              "    </tr>\n",
              "    <tr>\n",
              "      <th>5834821</th>\n",
              "      <td>0.60591</td>\n",
              "      <td>0.18116</td>\n",
              "      <td>0.00000</td>\n",
              "      <td>0.15339</td>\n",
              "      <td>0.75929</td>\n",
              "      <td>17</td>\n",
              "      <td>18</td>\n",
              "      <td>5657454</td>\n",
              "      <td>228205</td>\n",
              "      <td>0</td>\n",
              "      <td>1</td>\n",
              "      <td>0</td>\n",
              "      <td>0</td>\n",
              "      <td>0</td>\n",
              "      <td>4</td>\n",
              "    </tr>\n",
              "    <tr>\n",
              "      <th>4182953</th>\n",
              "      <td>1.00000</td>\n",
              "      <td>0.00000</td>\n",
              "      <td>0.00000</td>\n",
              "      <td>0.00000</td>\n",
              "      <td>0.00000</td>\n",
              "      <td>13</td>\n",
              "      <td>16</td>\n",
              "      <td>4857521</td>\n",
              "      <td>1891786</td>\n",
              "      <td>0</td>\n",
              "      <td>0</td>\n",
              "      <td>0</td>\n",
              "      <td>1</td>\n",
              "      <td>0</td>\n",
              "      <td>1</td>\n",
              "    </tr>\n",
              "    <tr>\n",
              "      <th>3985280</th>\n",
              "      <td>1.00000</td>\n",
              "      <td>0.00000</td>\n",
              "      <td>0.00000</td>\n",
              "      <td>0.00000</td>\n",
              "      <td>0.00000</td>\n",
              "      <td>13</td>\n",
              "      <td>10</td>\n",
              "      <td>2732082</td>\n",
              "      <td>997852</td>\n",
              "      <td>0</td>\n",
              "      <td>0</td>\n",
              "      <td>0</td>\n",
              "      <td>1</td>\n",
              "      <td>0</td>\n",
              "      <td>2</td>\n",
              "    </tr>\n",
              "    <tr>\n",
              "      <th>1541412</th>\n",
              "      <td>1.00000</td>\n",
              "      <td>0.00000</td>\n",
              "      <td>0.00000</td>\n",
              "      <td>0.00000</td>\n",
              "      <td>0.00000</td>\n",
              "      <td>7</td>\n",
              "      <td>10</td>\n",
              "      <td>45702</td>\n",
              "      <td>1375282</td>\n",
              "      <td>0</td>\n",
              "      <td>0</td>\n",
              "      <td>0</td>\n",
              "      <td>1</td>\n",
              "      <td>0</td>\n",
              "      <td>1</td>\n",
              "    </tr>\n",
              "  </tbody>\n",
              "</table>\n",
              "<p>4262955 rows × 15 columns</p>\n",
              "</div>\n",
              "      <button class=\"colab-df-convert\" onclick=\"convertToInteractive('df-855c8ace-78c8-4b4e-9bd1-c07d21995eaa')\"\n",
              "              title=\"Convert this dataframe to an interactive table.\"\n",
              "              style=\"display:none;\">\n",
              "        \n",
              "  <svg xmlns=\"http://www.w3.org/2000/svg\" height=\"24px\"viewBox=\"0 0 24 24\"\n",
              "       width=\"24px\">\n",
              "    <path d=\"M0 0h24v24H0V0z\" fill=\"none\"/>\n",
              "    <path d=\"M18.56 5.44l.94 2.06.94-2.06 2.06-.94-2.06-.94-.94-2.06-.94 2.06-2.06.94zm-11 1L8.5 8.5l.94-2.06 2.06-.94-2.06-.94L8.5 2.5l-.94 2.06-2.06.94zm10 10l.94 2.06.94-2.06 2.06-.94-2.06-.94-.94-2.06-.94 2.06-2.06.94z\"/><path d=\"M17.41 7.96l-1.37-1.37c-.4-.4-.92-.59-1.43-.59-.52 0-1.04.2-1.43.59L10.3 9.45l-7.72 7.72c-.78.78-.78 2.05 0 2.83L4 21.41c.39.39.9.59 1.41.59.51 0 1.02-.2 1.41-.59l7.78-7.78 2.81-2.81c.8-.78.8-2.07 0-2.86zM5.41 20L4 18.59l7.72-7.72 1.47 1.35L5.41 20z\"/>\n",
              "  </svg>\n",
              "      </button>\n",
              "      \n",
              "  <style>\n",
              "    .colab-df-container {\n",
              "      display:flex;\n",
              "      flex-wrap:wrap;\n",
              "      gap: 12px;\n",
              "    }\n",
              "\n",
              "    .colab-df-convert {\n",
              "      background-color: #E8F0FE;\n",
              "      border: none;\n",
              "      border-radius: 50%;\n",
              "      cursor: pointer;\n",
              "      display: none;\n",
              "      fill: #1967D2;\n",
              "      height: 32px;\n",
              "      padding: 0 0 0 0;\n",
              "      width: 32px;\n",
              "    }\n",
              "\n",
              "    .colab-df-convert:hover {\n",
              "      background-color: #E2EBFA;\n",
              "      box-shadow: 0px 1px 2px rgba(60, 64, 67, 0.3), 0px 1px 3px 1px rgba(60, 64, 67, 0.15);\n",
              "      fill: #174EA6;\n",
              "    }\n",
              "\n",
              "    [theme=dark] .colab-df-convert {\n",
              "      background-color: #3B4455;\n",
              "      fill: #D2E3FC;\n",
              "    }\n",
              "\n",
              "    [theme=dark] .colab-df-convert:hover {\n",
              "      background-color: #434B5C;\n",
              "      box-shadow: 0px 1px 3px 1px rgba(0, 0, 0, 0.15);\n",
              "      filter: drop-shadow(0px 1px 2px rgba(0, 0, 0, 0.3));\n",
              "      fill: #FFFFFF;\n",
              "    }\n",
              "  </style>\n",
              "\n",
              "      <script>\n",
              "        const buttonEl =\n",
              "          document.querySelector('#df-855c8ace-78c8-4b4e-9bd1-c07d21995eaa button.colab-df-convert');\n",
              "        buttonEl.style.display =\n",
              "          google.colab.kernel.accessAllowed ? 'block' : 'none';\n",
              "\n",
              "        async function convertToInteractive(key) {\n",
              "          const element = document.querySelector('#df-855c8ace-78c8-4b4e-9bd1-c07d21995eaa');\n",
              "          const dataTable =\n",
              "            await google.colab.kernel.invokeFunction('convertToInteractive',\n",
              "                                                     [key], {});\n",
              "          if (!dataTable) return;\n",
              "\n",
              "          const docLinkHtml = 'Like what you see? Visit the ' +\n",
              "            '<a target=\"_blank\" href=https://colab.research.google.com/notebooks/data_table.ipynb>data table notebook</a>'\n",
              "            + ' to learn more about interactive tables.';\n",
              "          element.innerHTML = '';\n",
              "          dataTable['output_type'] = 'display_data';\n",
              "          await google.colab.output.renderOutput(dataTable, element);\n",
              "          const docLink = document.createElement('div');\n",
              "          docLink.innerHTML = docLinkHtml;\n",
              "          element.appendChild(docLink);\n",
              "        }\n",
              "      </script>\n",
              "    </div>\n",
              "  </div>\n",
              "  "
            ]
          },
          "metadata": {},
          "execution_count": 48
        }
      ]
    },
    {
      "cell_type": "markdown",
      "source": [
        "### Modelagem"
      ],
      "metadata": {
        "id": "0IGSV44dmhCt"
      }
    },
    {
      "cell_type": "code",
      "source": [
        "print('Dos {} dados de treino iniciais, {} são fraudes e {} não são fraudes, uma proporção de {}'.format(len(y_train), \n",
        "                                                    y_train[y_train==1].count(), \n",
        "                                                    y_train[y_train==0].count(), \n",
        "                                                    round(y_train[y_train==1].count()/y_train[y_train==0].count(), 4)))"
      ],
      "metadata": {
        "colab": {
          "base_uri": "https://localhost:8080/"
        },
        "id": "0ezSMKC3rYbK",
        "outputId": "16dc3d0b-1d5f-4d4e-ab63-dbcdac34258b"
      },
      "execution_count": 49,
      "outputs": [
        {
          "output_type": "stream",
          "name": "stdout",
          "text": [
            "Dos 4262955 dados de treino iniciais, 5503 são fraudes e 4257452 não são fraudes, uma proporção de 0.0013\n"
          ]
        }
      ]
    },
    {
      "cell_type": "code",
      "source": [
        "def metricas_classificação(model, y_pred, y_test):\n",
        "    \n",
        "    accuracy =  round(accuracy_score(y_test, y_pred), 4)\n",
        "    precision = round(precision_score(y_test, y_pred), 4)\n",
        "    recall =  round(recall_score(y_test, y_pred), 4)\n",
        "    f1 = round(f1_score(y_test, y_pred), 4)\n",
        "    roc_auc = round(roc_auc_score(y_test, y_pred), 4)\n",
        "    TN = confusion_matrix(y_test,y_pred)[0][0]\n",
        "    FP = confusion_matrix(y_test,y_pred)[0][1]\n",
        "    FN = confusion_matrix(y_test,y_pred)[1][0]\n",
        "    TP = confusion_matrix(y_test,y_pred)[1][1]\n",
        "    \n",
        "    TN_list.append(TN)    \n",
        "    FP_list.append(FP)    \n",
        "    FN_list.append(FN)    \n",
        "    TP_list.append(TP)\n",
        "    accuracy_list.append(accuracy)\n",
        "    precision_list.append(precision)\n",
        "    recall_list.append(recall)\n",
        "    f1_list.append(f1)\n",
        "    roc_auc_list.append(roc_auc)\n",
        "    \n",
        "    print(\"Model: {}\".format(model))\n",
        "    print('\\n')\n",
        "    print(\"Accuracy: {}\".format(accuracy))\n",
        "    print(\"Precision: {}\".format(precision))\n",
        "    print(\"Recall: {}\".format(recall))\n",
        "    print(\"F1-Score: {}\".format(f1))\n",
        "    print(\"ROC AUC: {}\".format(roc_auc))\n",
        "    print('\\nConfusion Matrix') \n",
        "    print(confusion_matrix(y_test,y_pred))\n",
        "    print('\\n')\n",
        "    print(classification_report(y_test,y_pred))"
      ],
      "metadata": {
        "id": "Gs4syAkKsmIf"
      },
      "execution_count": 50,
      "outputs": []
    },
    {
      "cell_type": "code",
      "source": [
        "accuracy_list = []\n",
        "precision_list = []\n",
        "recall_list = []\n",
        "f1_list = []\n",
        "roc_auc_list = []\n",
        "TN_list = []\n",
        "FP_list = []\n",
        "FN_list = []\n",
        "TP_list = []"
      ],
      "metadata": {
        "id": "XbsIjnWusxR2"
      },
      "execution_count": 51,
      "outputs": []
    },
    {
      "cell_type": "code",
      "source": [
        "lrc = LogisticRegression(random_state=42)\n",
        "knn = KNeighborsClassifier()\n",
        "dtc = DecisionTreeClassifier(random_state=42)\n",
        "rfc = RandomForestClassifier(random_state=42)\n",
        "gbc = GradientBoostingClassifier(random_state=42)\n",
        "xgb = XGBClassifier(objective = 'binary:logistic', random_state=42)"
      ],
      "metadata": {
        "id": "QJhKmWjZs7UW"
      },
      "execution_count": 52,
      "outputs": []
    },
    {
      "cell_type": "markdown",
      "source": [
        "**Regressão Logistica:**"
      ],
      "metadata": {
        "id": "lPWTwc-6tJHH"
      }
    },
    {
      "cell_type": "code",
      "source": [
        "lrc.fit(X_train, y_train)"
      ],
      "metadata": {
        "colab": {
          "base_uri": "https://localhost:8080/"
        },
        "id": "1SOJa2e-tLZx",
        "outputId": "19e70ae6-2629-4977-bae4-b2349ddcd88f"
      },
      "execution_count": 53,
      "outputs": [
        {
          "output_type": "execute_result",
          "data": {
            "text/plain": [
              "LogisticRegression(random_state=42)"
            ]
          },
          "metadata": {},
          "execution_count": 53
        }
      ]
    },
    {
      "cell_type": "code",
      "source": [
        "y_pred = lrc.predict(X_test)\n",
        "\n",
        "metricas_classificação(lrc, y_pred, y_test)"
      ],
      "metadata": {
        "colab": {
          "base_uri": "https://localhost:8080/"
        },
        "id": "XoNE_KwvtcOy",
        "outputId": "2295cd81-c133-46cb-d6e6-eb37d202df8d"
      },
      "execution_count": 54,
      "outputs": [
        {
          "output_type": "stream",
          "name": "stdout",
          "text": [
            "Model: LogisticRegression(random_state=42)\n",
            "\n",
            "\n",
            "Accuracy: 0.9987\n",
            "Precision: 0.0\n",
            "Recall: 0.0\n",
            "F1-Score: 0.0\n",
            "ROC AUC: 0.5\n",
            "\n",
            "Confusion Matrix\n",
            "[[2096955       0]\n",
            " [   2710       0]]\n",
            "\n",
            "\n",
            "              precision    recall  f1-score   support\n",
            "\n",
            "           0       1.00      1.00      1.00   2096955\n",
            "           1       0.00      0.00      0.00      2710\n",
            "\n",
            "    accuracy                           1.00   2099665\n",
            "   macro avg       0.50      0.50      0.50   2099665\n",
            "weighted avg       1.00      1.00      1.00   2099665\n",
            "\n"
          ]
        }
      ]
    },
    {
      "cell_type": "markdown",
      "source": [
        "**KNN:**"
      ],
      "metadata": {
        "id": "zi8iWVi8tvGs"
      }
    },
    {
      "cell_type": "code",
      "source": [
        "knn.fit(X_train, y_train)"
      ],
      "metadata": {
        "colab": {
          "base_uri": "https://localhost:8080/"
        },
        "id": "3eGkZSG-tx9c",
        "outputId": "33e60958-827f-49f0-aa4c-96796adf5dbb"
      },
      "execution_count": 55,
      "outputs": [
        {
          "output_type": "execute_result",
          "data": {
            "text/plain": [
              "KNeighborsClassifier()"
            ]
          },
          "metadata": {},
          "execution_count": 55
        }
      ]
    },
    {
      "cell_type": "code",
      "source": [
        "y_pred = knn.predict(X_test)\n",
        "\n",
        "metricas_classificação(knn, y_pred, y_test)"
      ],
      "metadata": {
        "colab": {
          "base_uri": "https://localhost:8080/"
        },
        "id": "5M57b69-uvKS",
        "outputId": "a7b48a66-621d-4569-c5b9-2a26759ced9b"
      },
      "execution_count": 56,
      "outputs": [
        {
          "output_type": "stream",
          "name": "stdout",
          "text": [
            "Model: KNeighborsClassifier()\n",
            "\n",
            "\n",
            "Accuracy: 0.9987\n",
            "Precision: 0.0\n",
            "Recall: 0.0\n",
            "F1-Score: 0.0\n",
            "ROC AUC: 0.5\n",
            "\n",
            "Confusion Matrix\n",
            "[[2096955       0]\n",
            " [   2710       0]]\n",
            "\n",
            "\n",
            "              precision    recall  f1-score   support\n",
            "\n",
            "           0       1.00      1.00      1.00   2096955\n",
            "           1       0.00      0.00      0.00      2710\n",
            "\n",
            "    accuracy                           1.00   2099665\n",
            "   macro avg       0.50      0.50      0.50   2099665\n",
            "weighted avg       1.00      1.00      1.00   2099665\n",
            "\n"
          ]
        }
      ]
    },
    {
      "cell_type": "markdown",
      "source": [
        "**Decision Tree:**"
      ],
      "metadata": {
        "id": "5rdut89qvRlM"
      }
    },
    {
      "cell_type": "code",
      "source": [
        "dtc.fit(X_train, y_train)"
      ],
      "metadata": {
        "colab": {
          "base_uri": "https://localhost:8080/"
        },
        "id": "WqRphLm3vOaj",
        "outputId": "525bfdda-ce11-4ca0-bdee-4fb9c0122708"
      },
      "execution_count": 57,
      "outputs": [
        {
          "output_type": "execute_result",
          "data": {
            "text/plain": [
              "DecisionTreeClassifier(random_state=42)"
            ]
          },
          "metadata": {},
          "execution_count": 57
        }
      ]
    },
    {
      "cell_type": "code",
      "source": [
        "y_pred = dtc.predict(X_test)\n",
        "\n",
        "metricas_classificação(dtc, y_pred, y_test)"
      ],
      "metadata": {
        "colab": {
          "base_uri": "https://localhost:8080/"
        },
        "id": "B6Qh3BTXvlAq",
        "outputId": "46214b8c-3a62-4611-c16b-b7f27ae08a97"
      },
      "execution_count": 58,
      "outputs": [
        {
          "output_type": "stream",
          "name": "stdout",
          "text": [
            "Model: DecisionTreeClassifier(random_state=42)\n",
            "\n",
            "\n",
            "Accuracy: 0.9997\n",
            "Precision: 0.8895\n",
            "Recall: 0.8882\n",
            "F1-Score: 0.8888\n",
            "ROC AUC: 0.944\n",
            "\n",
            "Confusion Matrix\n",
            "[[2096656     299]\n",
            " [    303    2407]]\n",
            "\n",
            "\n",
            "              precision    recall  f1-score   support\n",
            "\n",
            "           0       1.00      1.00      1.00   2096955\n",
            "           1       0.89      0.89      0.89      2710\n",
            "\n",
            "    accuracy                           1.00   2099665\n",
            "   macro avg       0.94      0.94      0.94   2099665\n",
            "weighted avg       1.00      1.00      1.00   2099665\n",
            "\n"
          ]
        }
      ]
    },
    {
      "cell_type": "markdown",
      "source": [
        "**Random Forest:**"
      ],
      "metadata": {
        "id": "-q7J0VVnvtd1"
      }
    },
    {
      "cell_type": "code",
      "source": [
        "rfc.fit(X_train, y_train)"
      ],
      "metadata": {
        "colab": {
          "base_uri": "https://localhost:8080/"
        },
        "id": "CVIAtVoBvv6W",
        "outputId": "74eba4d1-9dd1-4bca-d7d7-cd4786cd9d0a"
      },
      "execution_count": 59,
      "outputs": [
        {
          "output_type": "execute_result",
          "data": {
            "text/plain": [
              "RandomForestClassifier(random_state=42)"
            ]
          },
          "metadata": {},
          "execution_count": 59
        }
      ]
    },
    {
      "cell_type": "code",
      "source": [
        "y_pred = rfc.predict(X_test)\n",
        "\n",
        "metricas_classificação(rfc, y_pred, y_test)"
      ],
      "metadata": {
        "colab": {
          "base_uri": "https://localhost:8080/"
        },
        "id": "hcbqOT3U1HGP",
        "outputId": "518de304-c057-4d10-c275-1a5955bb8a9f"
      },
      "execution_count": 60,
      "outputs": [
        {
          "output_type": "stream",
          "name": "stdout",
          "text": [
            "Model: RandomForestClassifier(random_state=42)\n",
            "\n",
            "\n",
            "Accuracy: 0.9998\n",
            "Precision: 0.9927\n",
            "Recall: 0.8494\n",
            "F1-Score: 0.9155\n",
            "ROC AUC: 0.9247\n",
            "\n",
            "Confusion Matrix\n",
            "[[2096938      17]\n",
            " [    408    2302]]\n",
            "\n",
            "\n",
            "              precision    recall  f1-score   support\n",
            "\n",
            "           0       1.00      1.00      1.00   2096955\n",
            "           1       0.99      0.85      0.92      2710\n",
            "\n",
            "    accuracy                           1.00   2099665\n",
            "   macro avg       1.00      0.92      0.96   2099665\n",
            "weighted avg       1.00      1.00      1.00   2099665\n",
            "\n"
          ]
        }
      ]
    },
    {
      "cell_type": "markdown",
      "source": [
        "**Gradient Boosting:**"
      ],
      "metadata": {
        "id": "0kuSqb_H2QXG"
      }
    },
    {
      "cell_type": "code",
      "source": [
        "gbc.fit(X_train, y_train)"
      ],
      "metadata": {
        "colab": {
          "base_uri": "https://localhost:8080/"
        },
        "id": "BBMWk3ik2Ssk",
        "outputId": "f28196ee-5b5a-463c-ce33-1f93a2909b39"
      },
      "execution_count": 61,
      "outputs": [
        {
          "output_type": "execute_result",
          "data": {
            "text/plain": [
              "GradientBoostingClassifier(random_state=42)"
            ]
          },
          "metadata": {},
          "execution_count": 61
        }
      ]
    },
    {
      "cell_type": "code",
      "source": [
        "y_pred = gbc.predict(X_test)\n",
        "\n",
        "metricas_classificação(gbc, y_pred, y_test)"
      ],
      "metadata": {
        "colab": {
          "base_uri": "https://localhost:8080/"
        },
        "id": "8urb5gcY_k-H",
        "outputId": "468d1f05-3e09-43c6-8b1d-26354fa8b086"
      },
      "execution_count": 62,
      "outputs": [
        {
          "output_type": "stream",
          "name": "stdout",
          "text": [
            "Model: GradientBoostingClassifier(random_state=42)\n",
            "\n",
            "\n",
            "Accuracy: 0.9989\n",
            "Precision: 0.5769\n",
            "Recall: 0.6007\n",
            "F1-Score: 0.5886\n",
            "ROC AUC: 0.8001\n",
            "\n",
            "Confusion Matrix\n",
            "[[2095761    1194]\n",
            " [   1082    1628]]\n",
            "\n",
            "\n",
            "              precision    recall  f1-score   support\n",
            "\n",
            "           0       1.00      1.00      1.00   2096955\n",
            "           1       0.58      0.60      0.59      2710\n",
            "\n",
            "    accuracy                           1.00   2099665\n",
            "   macro avg       0.79      0.80      0.79   2099665\n",
            "weighted avg       1.00      1.00      1.00   2099665\n",
            "\n"
          ]
        }
      ]
    },
    {
      "cell_type": "code",
      "source": [
        "baseline_results=pd.DataFrame(list(zip(TN_list, FP_list, FN_list, TP_list, accuracy_list, precision_list, \n",
        "                                       recall_list, f1_list, roc_auc_list)),\n",
        "                              columns=['TN', 'FP', 'FN', 'TP', 'Accuracy','Precision','Recall','F1 Score','ROC AUC'],\n",
        "                              index=['Baseline Logistic Regression', \n",
        "                                     'Baseline KNN', \n",
        "                                     'Baseline Decision Tree',\n",
        "                                     'Baseline Random Forest',\n",
        "                                     'Baseline Gradient Boosting'])"
      ],
      "metadata": {
        "id": "YPdqtso2EcHf"
      },
      "execution_count": 64,
      "outputs": []
    },
    {
      "cell_type": "code",
      "source": [
        "baseline_results"
      ],
      "metadata": {
        "colab": {
          "base_uri": "https://localhost:8080/",
          "height": 206
        },
        "id": "X0AbltM_EnEz",
        "outputId": "db693ae9-fd59-4473-b4db-b7e8ae7bbbdc"
      },
      "execution_count": 65,
      "outputs": [
        {
          "output_type": "execute_result",
          "data": {
            "text/plain": [
              "                                   TN    FP    FN    TP  Accuracy  Precision  \\\n",
              "Baseline Logistic Regression  2096955     0  2710     0   0.99870    0.00000   \n",
              "Baseline KNN                  2096955     0  2710     0   0.99870    0.00000   \n",
              "Baseline Decision Tree        2096656   299   303  2407   0.99970    0.88950   \n",
              "Baseline Random Forest        2096938    17   408  2302   0.99980    0.99270   \n",
              "Baseline Gradient Boosting    2095761  1194  1082  1628   0.99890    0.57690   \n",
              "\n",
              "                              Recall  F1 Score  ROC AUC  \n",
              "Baseline Logistic Regression 0.00000   0.00000  0.50000  \n",
              "Baseline KNN                 0.00000   0.00000  0.50000  \n",
              "Baseline Decision Tree       0.88820   0.88880  0.94400  \n",
              "Baseline Random Forest       0.84940   0.91550  0.92470  \n",
              "Baseline Gradient Boosting   0.60070   0.58860  0.80010  "
            ],
            "text/html": [
              "\n",
              "  <div id=\"df-4fc8be47-45f4-4da1-9cbf-2efe6b80442c\">\n",
              "    <div class=\"colab-df-container\">\n",
              "      <div>\n",
              "<style scoped>\n",
              "    .dataframe tbody tr th:only-of-type {\n",
              "        vertical-align: middle;\n",
              "    }\n",
              "\n",
              "    .dataframe tbody tr th {\n",
              "        vertical-align: top;\n",
              "    }\n",
              "\n",
              "    .dataframe thead th {\n",
              "        text-align: right;\n",
              "    }\n",
              "</style>\n",
              "<table border=\"1\" class=\"dataframe\">\n",
              "  <thead>\n",
              "    <tr style=\"text-align: right;\">\n",
              "      <th></th>\n",
              "      <th>TN</th>\n",
              "      <th>FP</th>\n",
              "      <th>FN</th>\n",
              "      <th>TP</th>\n",
              "      <th>Accuracy</th>\n",
              "      <th>Precision</th>\n",
              "      <th>Recall</th>\n",
              "      <th>F1 Score</th>\n",
              "      <th>ROC AUC</th>\n",
              "    </tr>\n",
              "  </thead>\n",
              "  <tbody>\n",
              "    <tr>\n",
              "      <th>Baseline Logistic Regression</th>\n",
              "      <td>2096955</td>\n",
              "      <td>0</td>\n",
              "      <td>2710</td>\n",
              "      <td>0</td>\n",
              "      <td>0.99870</td>\n",
              "      <td>0.00000</td>\n",
              "      <td>0.00000</td>\n",
              "      <td>0.00000</td>\n",
              "      <td>0.50000</td>\n",
              "    </tr>\n",
              "    <tr>\n",
              "      <th>Baseline KNN</th>\n",
              "      <td>2096955</td>\n",
              "      <td>0</td>\n",
              "      <td>2710</td>\n",
              "      <td>0</td>\n",
              "      <td>0.99870</td>\n",
              "      <td>0.00000</td>\n",
              "      <td>0.00000</td>\n",
              "      <td>0.00000</td>\n",
              "      <td>0.50000</td>\n",
              "    </tr>\n",
              "    <tr>\n",
              "      <th>Baseline Decision Tree</th>\n",
              "      <td>2096656</td>\n",
              "      <td>299</td>\n",
              "      <td>303</td>\n",
              "      <td>2407</td>\n",
              "      <td>0.99970</td>\n",
              "      <td>0.88950</td>\n",
              "      <td>0.88820</td>\n",
              "      <td>0.88880</td>\n",
              "      <td>0.94400</td>\n",
              "    </tr>\n",
              "    <tr>\n",
              "      <th>Baseline Random Forest</th>\n",
              "      <td>2096938</td>\n",
              "      <td>17</td>\n",
              "      <td>408</td>\n",
              "      <td>2302</td>\n",
              "      <td>0.99980</td>\n",
              "      <td>0.99270</td>\n",
              "      <td>0.84940</td>\n",
              "      <td>0.91550</td>\n",
              "      <td>0.92470</td>\n",
              "    </tr>\n",
              "    <tr>\n",
              "      <th>Baseline Gradient Boosting</th>\n",
              "      <td>2095761</td>\n",
              "      <td>1194</td>\n",
              "      <td>1082</td>\n",
              "      <td>1628</td>\n",
              "      <td>0.99890</td>\n",
              "      <td>0.57690</td>\n",
              "      <td>0.60070</td>\n",
              "      <td>0.58860</td>\n",
              "      <td>0.80010</td>\n",
              "    </tr>\n",
              "  </tbody>\n",
              "</table>\n",
              "</div>\n",
              "      <button class=\"colab-df-convert\" onclick=\"convertToInteractive('df-4fc8be47-45f4-4da1-9cbf-2efe6b80442c')\"\n",
              "              title=\"Convert this dataframe to an interactive table.\"\n",
              "              style=\"display:none;\">\n",
              "        \n",
              "  <svg xmlns=\"http://www.w3.org/2000/svg\" height=\"24px\"viewBox=\"0 0 24 24\"\n",
              "       width=\"24px\">\n",
              "    <path d=\"M0 0h24v24H0V0z\" fill=\"none\"/>\n",
              "    <path d=\"M18.56 5.44l.94 2.06.94-2.06 2.06-.94-2.06-.94-.94-2.06-.94 2.06-2.06.94zm-11 1L8.5 8.5l.94-2.06 2.06-.94-2.06-.94L8.5 2.5l-.94 2.06-2.06.94zm10 10l.94 2.06.94-2.06 2.06-.94-2.06-.94-.94-2.06-.94 2.06-2.06.94z\"/><path d=\"M17.41 7.96l-1.37-1.37c-.4-.4-.92-.59-1.43-.59-.52 0-1.04.2-1.43.59L10.3 9.45l-7.72 7.72c-.78.78-.78 2.05 0 2.83L4 21.41c.39.39.9.59 1.41.59.51 0 1.02-.2 1.41-.59l7.78-7.78 2.81-2.81c.8-.78.8-2.07 0-2.86zM5.41 20L4 18.59l7.72-7.72 1.47 1.35L5.41 20z\"/>\n",
              "  </svg>\n",
              "      </button>\n",
              "      \n",
              "  <style>\n",
              "    .colab-df-container {\n",
              "      display:flex;\n",
              "      flex-wrap:wrap;\n",
              "      gap: 12px;\n",
              "    }\n",
              "\n",
              "    .colab-df-convert {\n",
              "      background-color: #E8F0FE;\n",
              "      border: none;\n",
              "      border-radius: 50%;\n",
              "      cursor: pointer;\n",
              "      display: none;\n",
              "      fill: #1967D2;\n",
              "      height: 32px;\n",
              "      padding: 0 0 0 0;\n",
              "      width: 32px;\n",
              "    }\n",
              "\n",
              "    .colab-df-convert:hover {\n",
              "      background-color: #E2EBFA;\n",
              "      box-shadow: 0px 1px 2px rgba(60, 64, 67, 0.3), 0px 1px 3px 1px rgba(60, 64, 67, 0.15);\n",
              "      fill: #174EA6;\n",
              "    }\n",
              "\n",
              "    [theme=dark] .colab-df-convert {\n",
              "      background-color: #3B4455;\n",
              "      fill: #D2E3FC;\n",
              "    }\n",
              "\n",
              "    [theme=dark] .colab-df-convert:hover {\n",
              "      background-color: #434B5C;\n",
              "      box-shadow: 0px 1px 3px 1px rgba(0, 0, 0, 0.15);\n",
              "      filter: drop-shadow(0px 1px 2px rgba(0, 0, 0, 0.3));\n",
              "      fill: #FFFFFF;\n",
              "    }\n",
              "  </style>\n",
              "\n",
              "      <script>\n",
              "        const buttonEl =\n",
              "          document.querySelector('#df-4fc8be47-45f4-4da1-9cbf-2efe6b80442c button.colab-df-convert');\n",
              "        buttonEl.style.display =\n",
              "          google.colab.kernel.accessAllowed ? 'block' : 'none';\n",
              "\n",
              "        async function convertToInteractive(key) {\n",
              "          const element = document.querySelector('#df-4fc8be47-45f4-4da1-9cbf-2efe6b80442c');\n",
              "          const dataTable =\n",
              "            await google.colab.kernel.invokeFunction('convertToInteractive',\n",
              "                                                     [key], {});\n",
              "          if (!dataTable) return;\n",
              "\n",
              "          const docLinkHtml = 'Like what you see? Visit the ' +\n",
              "            '<a target=\"_blank\" href=https://colab.research.google.com/notebooks/data_table.ipynb>data table notebook</a>'\n",
              "            + ' to learn more about interactive tables.';\n",
              "          element.innerHTML = '';\n",
              "          dataTable['output_type'] = 'display_data';\n",
              "          await google.colab.output.renderOutput(dataTable, element);\n",
              "          const docLink = document.createElement('div');\n",
              "          docLink.innerHTML = docLinkHtml;\n",
              "          element.appendChild(docLink);\n",
              "        }\n",
              "      </script>\n",
              "    </div>\n",
              "  </div>\n",
              "  "
            ]
          },
          "metadata": {},
          "execution_count": 65
        }
      ]
    },
    {
      "cell_type": "markdown",
      "source": [
        "Os modelos Logistic Regression e KNN não foram capazes de identificar nenhuma fraude, obtendo um AUC de 0.5, e zerando a precisão, recall e F1 score, mas mesmo assim obtiveram acurácia de 99.8%, o que deixa evidente que a acurácia não é uma boa métrica para ser utilizada.\n",
        "\n",
        "Os demais modelos foram capazes de detectar fraudes, com um destaque para Ramdom Forest, com um F1 Score de 91.55% e recall de 84,94%."
      ],
      "metadata": {
        "id": "F1wFZYB8EtUY"
      }
    },
    {
      "cell_type": "markdown",
      "source": [
        "*Movendo o Threshold do modelo Ramdom Forest:*"
      ],
      "metadata": {
        "id": "qRxiD-VeKwM0"
      }
    },
    {
      "cell_type": "code",
      "source": [
        "y_proba = rfc.predict_proba(X_test)"
      ],
      "metadata": {
        "id": "uGq545ofEs_q"
      },
      "execution_count": 66,
      "outputs": []
    },
    {
      "cell_type": "code",
      "source": [
        "accuracy_list = []\n",
        "precision_list = []\n",
        "recall_list = []\n",
        "f1_list = []\n",
        "roc_auc_list = []\n",
        "TN_list = []\n",
        "FP_list = []\n",
        "FN_list = []\n",
        "TP_list = []"
      ],
      "metadata": {
        "id": "mUeanaWFMT1d"
      },
      "execution_count": 72,
      "outputs": []
    },
    {
      "cell_type": "code",
      "source": [
        "def calculate_far_frr (y_proba , y_true, n_points =30, normalize =False, threshold =None, ylimit=1000):\n",
        "    thr = np.linspace( 0, 1, n_points)\n",
        "    far = []\n",
        "    frr = []\n",
        "    \n",
        "    for t in thr:\n",
        "        far_pt = y_proba[y_true == 0][:,1] >= t\n",
        "        frr_pt = y_proba[y_true == 1][:,1] < t\n",
        "        if normalize:\n",
        "            far.append(far_pt.mean())\n",
        "            frr.append(frr_pt.mean())\n",
        "        else:\n",
        "            far.append(far_pt.sum())\n",
        "            frr.append(frr_pt.sum())\n",
        "    if threshold is None:\n",
        "        far = np.array(far)\n",
        "        frr = np.array(frr)\n",
        "        optm = thr[ abs(far - frr).argmin()]\n",
        "    else:\n",
        "        optm = threshold\n",
        "    \n",
        "    plot_data = pd.DataFrame(\n",
        "        index=thr,\n",
        "        data={\n",
        "            'far': far,\n",
        "            'frr': frr},\n",
        "        dtype = float)\n",
        "    \n",
        "    plt.figure()\n",
        "    sns.lineplot(data = plot_data, x=thr, y='far')\n",
        "    sns.lineplot(data = plot_data, x=thr, y='frr')\n",
        "    plt.title('FAR / FRR')\n",
        "    plt.xlabel('Threshold')\n",
        "    plt.ylabel('Mispredicted')\n",
        "    plt.axvline(x = optm, color = 'r', linestyle = '--')\n",
        "    plt.legend(['FAR', 'FRR', 'Threshold'])    \n",
        "    plt.ylim([0, ylimit])\n",
        "    \n",
        "    return optm"
      ],
      "metadata": {
        "id": "Crk1yy_pLYdL"
      },
      "execution_count": 68,
      "outputs": []
    },
    {
      "cell_type": "code",
      "source": [
        "thresh = calculate_far_frr (y_proba , y_test, n_points =100, normalize =False, threshold =None, ylimit = 1000)"
      ],
      "metadata": {
        "colab": {
          "base_uri": "https://localhost:8080/",
          "height": 376
        },
        "id": "XEwW6kcALHVj",
        "outputId": "80b8a910-e59b-4827-f0c4-157e49f918e2"
      },
      "execution_count": 69,
      "outputs": [
        {
          "output_type": "display_data",
          "data": {
            "text/plain": [
              "<Figure size 576x396 with 1 Axes>"
            ],
            "image/png": "[encoded data removed]"
          },
          "metadata": {}
        }
      ]
    },
    {
      "cell_type": "code",
      "source": [
        "y_pred = rfc.predict(X_test)\n",
        "\n",
        "for i in range(len(y_pred)):\n",
        "    if y_proba[i,1]>=thresh:\n",
        "        y_pred[i] = 1\n",
        "    else:\n",
        "        y_pred[i] = 0\n",
        "\n",
        "metricas_classificação(rfc, y_pred, y_test)"
      ],
      "metadata": {
        "colab": {
          "base_uri": "https://localhost:8080/"
        },
        "id": "5wHHv85FLmQC",
        "outputId": "ff880efe-d308-4489-d673-ae7a0a8f256f"
      },
      "execution_count": 70,
      "outputs": [
        {
          "output_type": "stream",
          "name": "stdout",
          "text": [
            "Model: RandomForestClassifier(random_state=42)\n",
            "\n",
            "\n",
            "Accuracy: 0.9998\n",
            "Precision: 0.9251\n",
            "Recall: 0.9207\n",
            "F1-Score: 0.9229\n",
            "ROC AUC: 0.9603\n",
            "\n",
            "Confusion Matrix\n",
            "[[2096753     202]\n",
            " [    215    2495]]\n",
            "\n",
            "\n",
            "              precision    recall  f1-score   support\n",
            "\n",
            "           0       1.00      1.00      1.00   2096955\n",
            "           1       0.93      0.92      0.92      2710\n",
            "\n",
            "    accuracy                           1.00   2099665\n",
            "   macro avg       0.96      0.96      0.96   2099665\n",
            "weighted avg       1.00      1.00      1.00   2099665\n",
            "\n"
          ]
        }
      ]
    },
    {
      "cell_type": "markdown",
      "source": [
        "O Random Forest foi capaz de obter uma excelente precisão no geral dos modelos, sendo aquele que minimizou o número de falsos positivos sem resultar numa enorme perda de fraudes. Ele obteve bons resultados de AUC, F1 Score, Recall e Precisão após mudança de Threshold."
      ],
      "metadata": {
        "id": "eclvpI8TQiwk"
      }
    },
    {
      "cell_type": "markdown",
      "source": [
        "A solução ideal é aquela que melhor atende a instituição, sendo fundamental um entendimento com o time de negócios de qual o objetivo, podendo modelar a fim de se maximar ou balancear a performance de acordo com a necessidade, podendo ser a com o maior AUC, a com o maior número de detecção de fraudes ou mesmo com menor número de falsos positivos.\n",
        "\n",
        "O projeto não necessitou uma limpeza dos dados, mas um pré processamento e Feature Engineering se mostraram eficientes para uma boa modelagem.\n",
        "\n",
        "Um próximo passo possível seria achar os melhores hiperparâmetros para o RandomForest, além de testar também o modelo XGBoost, o que precisaria de um ótimo desempenho computacional.\n",
        "\n",
        "Além disso, outras variáveis que não estavam presentes no dataset poderiam ser interessantes, caso estivessem disponíveis, como a renda do responsável pela conta, ou principalmente dados históricos para além de um mês. Como a simulação representava apenas 30 dias de transações, não existe um histórico extenso de transações usualmente realizadas pelo usuário, fator que poderia impulsionar a performance dos modelos."
      ],
      "metadata": {
        "id": "eWtn_r3iapgR"
      }
    }
  ]
}